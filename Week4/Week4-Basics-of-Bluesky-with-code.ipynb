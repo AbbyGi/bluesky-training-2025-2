{
 "cells": [
  {
   "cell_type": "markdown",
   "id": "f9429660-7715-4712-a024-850f3447bb5b",
   "metadata": {},
   "source": [
    "# Week 4: Basics of Bluesky"
   ]
  },
  {
   "cell_type": "markdown",
   "id": "f964de88-51f8-4239-9d5b-358738ef1c57",
   "metadata": {},
   "source": [
    "## RunEngine"
   ]
  },
  {
   "cell_type": "code",
   "execution_count": null,
   "id": "af16e35d-bff4-4c1c-b5d5-77807edc1fd7",
   "metadata": {},
   "outputs": [],
   "source": [
    "from bluesky.run_engine import RunEngine"
   ]
  },
  {
   "cell_type": "code",
   "execution_count": null,
   "id": "36f69924-f065-43c7-8aae-0fc7d9528ec4",
   "metadata": {},
   "outputs": [],
   "source": [
    "RE = RunEngine({})"
   ]
  },
  {
   "cell_type": "markdown",
   "id": "0ede7930-d272-4109-a958-bc81f45e3d6d",
   "metadata": {},
   "source": [
    "## Subscriptions"
   ]
  },
  {
   "cell_type": "code",
   "execution_count": null,
   "id": "f38f338f-85e6-4974-8893-e0a5fe0a79c1",
   "metadata": {},
   "outputs": [],
   "source": [
    "import bluesky\n",
    "bluesky.__version__"
   ]
  },
  {
   "cell_type": "code",
   "execution_count": null,
   "id": "54d75987-05cc-4af7-b1c4-e159c5008483",
   "metadata": {},
   "outputs": [],
   "source": [
    "from databroker import Broker\n",
    "db = Broker.named(\"temp\")"
   ]
  },
  {
   "cell_type": "code",
   "execution_count": null,
   "id": "1e1f0670-0255-439b-ad01-a6560e98396d",
   "metadata": {},
   "outputs": [],
   "source": [
    "RE.subscribe(db.insert)"
   ]
  },
  {
   "cell_type": "code",
   "execution_count": null,
   "id": "5af0b17d-5b1c-4872-88ff-c07aa8190573",
   "metadata": {},
   "outputs": [],
   "source": [
    "from bluesky.callbacks.best_effort import BestEffortCallback\n",
    "bec = BestEffortCallback()"
   ]
  },
  {
   "cell_type": "code",
   "execution_count": null,
   "id": "af247916-f18b-4733-a625-363d7717e1e7",
   "metadata": {},
   "outputs": [],
   "source": [
    "RE.subscribe(bec)"
   ]
  },
  {
   "cell_type": "markdown",
   "id": "570c8133-8135-4c14-b088-02f920814d8f",
   "metadata": {},
   "source": [
    "## Plans"
   ]
  },
  {
   "cell_type": "code",
   "execution_count": null,
   "id": "663e4a65-8bae-466e-8cf1-ed82dad4e6d2",
   "metadata": {},
   "outputs": [],
   "source": [
    "import bluesky.plans as bp\n",
    "import bluesky.plan_stubs as bps"
   ]
  },
  {
   "cell_type": "markdown",
   "id": "e2e59377-e6da-470e-9c41-0617918959d1",
   "metadata": {},
   "source": [
    "## Metadata"
   ]
  },
  {
   "cell_type": "code",
   "execution_count": null,
   "id": "a2359d97-39d1-49dd-b0c9-eaf5fdb811c6",
   "metadata": {},
   "outputs": [],
   "source": [
    "RE.md"
   ]
  },
  {
   "cell_type": "code",
   "execution_count": null,
   "id": "3a973ac5-ab33-471a-8821-e53dbae133c1",
   "metadata": {},
   "outputs": [],
   "source": [
    "RE(bp.count([], md={\"operator\": \"Max\", \"mood\": \"optimistic\"}))"
   ]
  },
  {
   "cell_type": "code",
   "execution_count": null,
   "id": "1d1b5daa-1d7b-4f34-9798-264d408d038f",
   "metadata": {
    "scrolled": true
   },
   "outputs": [],
   "source": [
    "db[-1].start"
   ]
  },
  {
   "cell_type": "code",
   "execution_count": null,
   "id": "fd9a21ca-9014-4c17-ba56-0de35a5d7f12",
   "metadata": {},
   "outputs": [],
   "source": [
    "RE(bp.count([]), test={\"operator\": \"Dan\", \"mood\": \"GR8!\"})"
   ]
  },
  {
   "cell_type": "code",
   "execution_count": null,
   "id": "36a88f44-9524-4e63-aade-37b591cca4a2",
   "metadata": {},
   "outputs": [],
   "source": [
    "db[-1].start"
   ]
  },
  {
   "cell_type": "markdown",
   "id": "5f8a5d79-519c-4fdb-8483-0e186c1d152c",
   "metadata": {},
   "source": [
    "## Simulators"
   ]
  },
  {
   "cell_type": "code",
   "execution_count": null,
   "id": "e442d6c8-4bf6-4a4a-a9a7-542cbccdd6b4",
   "metadata": {},
   "outputs": [],
   "source": [
    "from bluesky.simulators import summarize_plan"
   ]
  },
  {
   "cell_type": "code",
   "execution_count": null,
   "id": "25e6880e-fbdf-4c35-83ba-191017b07bcf",
   "metadata": {},
   "outputs": [],
   "source": [
    "from bluesky.simulators import plot_raster_path"
   ]
  },
  {
   "cell_type": "code",
   "execution_count": null,
   "id": "f65b1cba-335b-4773-a277-d8be12e11196",
   "metadata": {},
   "outputs": [],
   "source": [
    "plot_raster_path?"
   ]
  },
  {
   "cell_type": "code",
   "execution_count": null,
   "id": "bd324c3f-25d8-4a65-9830-b6b987e8173c",
   "metadata": {},
   "outputs": [],
   "source": [
    "from ophyd.sim import det, noisy_det, motor1, motor2"
   ]
  },
  {
   "cell_type": "code",
   "execution_count": null,
   "id": "b1effd46-9a1c-46ff-bb0b-15967091fbc9",
   "metadata": {},
   "outputs": [],
   "source": [
    "plan = bp.grid_scan([noisy_det], motor1, -1, 1, 5, motor2, 0, 3, 7, True)\n",
    "plot_raster_path(plan, motor1.name, motor2.name)"
   ]
  },
  {
   "cell_type": "code",
   "execution_count": null,
   "id": "47faf05f-0165-49c2-8255-2dacbac36e7e",
   "metadata": {},
   "outputs": [],
   "source": [
    "RE(bp.grid_scan([noisy_det], motor1, -1, 1, 5, motor2, 0, 3, 7, True))"
   ]
  },
  {
   "cell_type": "code",
   "execution_count": null,
   "id": "44f0c6f9-d5c2-42f8-bffa-0a88cfdf4708",
   "metadata": {},
   "outputs": [],
   "source": []
  }
 ],
 "metadata": {
  "kernelspec": {
   "display_name": "Python 3 (current)",
   "language": "python",
   "name": "python3"
  },
  "language_info": {
   "codemirror_mode": {
    "name": "ipython",
    "version": 3
   },
   "file_extension": ".py",
   "mimetype": "text/x-python",
   "name": "python",
   "nbconvert_exporter": "python",
   "pygments_lexer": "ipython3",
   "version": "3.11.6"
  }
 },
 "nbformat": 4,
 "nbformat_minor": 5
}
