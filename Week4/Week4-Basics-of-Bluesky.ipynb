{
 "cells": [
  {
   "cell_type": "markdown",
   "id": "f9429660-7715-4712-a024-850f3447bb5b",
   "metadata": {},
   "source": [
    "# Week 4: Basics of Bluesky"
   ]
  },
  {
   "cell_type": "markdown",
   "id": "f964de88-51f8-4239-9d5b-358738ef1c57",
   "metadata": {},
   "source": [
    "## RunEngine"
   ]
  },
  {
   "cell_type": "code",
   "execution_count": 1,
   "id": "af16e35d-bff4-4c1c-b5d5-77807edc1fd7",
   "metadata": {},
   "outputs": [
    {
     "data": {
      "text/plain": [
       "Ellipsis"
      ]
     },
     "execution_count": 1,
     "metadata": {},
     "output_type": "execute_result"
    }
   ],
   "source": [
    "..."
   ]
  },
  {
   "cell_type": "markdown",
   "id": "0ede7930-d272-4109-a958-bc81f45e3d6d",
   "metadata": {},
   "source": [
    "## Subscriptions"
   ]
  },
  {
   "cell_type": "code",
   "execution_count": 2,
   "id": "af247916-f18b-4733-a625-363d7717e1e7",
   "metadata": {},
   "outputs": [
    {
     "data": {
      "text/plain": [
       "Ellipsis"
      ]
     },
     "execution_count": 2,
     "metadata": {},
     "output_type": "execute_result"
    }
   ],
   "source": [
    "..."
   ]
  },
  {
   "cell_type": "markdown",
   "id": "570c8133-8135-4c14-b088-02f920814d8f",
   "metadata": {},
   "source": [
    "## Plans"
   ]
  },
  {
   "cell_type": "code",
   "execution_count": 3,
   "id": "663e4a65-8bae-466e-8cf1-ed82dad4e6d2",
   "metadata": {},
   "outputs": [
    {
     "data": {
      "text/plain": [
       "Ellipsis"
      ]
     },
     "execution_count": 3,
     "metadata": {},
     "output_type": "execute_result"
    }
   ],
   "source": [
    "..."
   ]
  },
  {
   "cell_type": "markdown",
   "id": "e2e59377-e6da-470e-9c41-0617918959d1",
   "metadata": {},
   "source": [
    "## Metadata"
   ]
  },
  {
   "cell_type": "code",
   "execution_count": 4,
   "id": "a2359d97-39d1-49dd-b0c9-eaf5fdb811c6",
   "metadata": {},
   "outputs": [
    {
     "data": {
      "text/plain": [
       "Ellipsis"
      ]
     },
     "execution_count": 4,
     "metadata": {},
     "output_type": "execute_result"
    }
   ],
   "source": [
    "..."
   ]
  },
  {
   "cell_type": "markdown",
   "id": "5f8a5d79-519c-4fdb-8483-0e186c1d152c",
   "metadata": {},
   "source": [
    "## Simulators"
   ]
  },
  {
   "cell_type": "code",
   "execution_count": 5,
   "id": "44f0c6f9-d5c2-42f8-bffa-0a88cfdf4708",
   "metadata": {},
   "outputs": [
    {
     "data": {
      "text/plain": [
       "Ellipsis"
      ]
     },
     "execution_count": 5,
     "metadata": {},
     "output_type": "execute_result"
    }
   ],
   "source": [
    "..."
   ]
  },
  {
   "cell_type": "code",
   "execution_count": null,
   "id": "a9c02626-d811-4e64-83e1-2015cd190a35",
   "metadata": {},
   "outputs": [],
   "source": []
  }
 ],
 "metadata": {
  "kernelspec": {
   "display_name": "Python 3 (current)",
   "language": "python",
   "name": "python3"
  },
  "language_info": {
   "codemirror_mode": {
    "name": "ipython",
    "version": 3
   },
   "file_extension": ".py",
   "mimetype": "text/x-python",
   "name": "python",
   "nbconvert_exporter": "python",
   "pygments_lexer": "ipython3",
   "version": "3.11.6"
  }
 },
 "nbformat": 4,
 "nbformat_minor": 5
}
