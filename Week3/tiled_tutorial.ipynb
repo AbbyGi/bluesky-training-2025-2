{
 "cells": [
  {
   "cell_type": "markdown",
   "id": "08d4db86-234e-4310-b996-4aa0dcf6132c",
   "metadata": {},
   "source": [
    "# Using Tiled for Access to Structured Data\n",
    "\n",
    "In this tutorial we will learn how to efficiently access and manipulate data in its native form without worrying about downloading large archives and opening esoteric file formats."
   ]
  },
  {
   "cell_type": "markdown",
   "id": "fa9b0f0b-cb2f-46b8-b914-cb05bcebe9ce",
   "metadata": {},
   "source": [
    "## What is Tiled?\n",
    "\n",
    "Tiled is a flexible tool for structured data access, designed with the needs of scientists in mind — especially those working with a wide variety of data formats and workflows. It doesn’t enforce a single data format, but instead standardizes access through common structures like arrays and tables.\n",
    "\n",
    "\n",
    "\n",
    "### 🔧 Key Design Principles of Tiled\n",
    "\n",
    "📂 **Format-agnostic:** Works with any format — no “one format to rule them all.”\n",
    "\n",
    "🧘‍♀️ **Meet users where they are:** Supports both classic file systems and modern databases.\n",
    "\n",
    "🌐 **Web-first:** Uses web standards to make data accessible to tools like NumPy, Pandas, web apps, and more.\n",
    "\n",
    "🔁 **Transcoding on the fly:** Converts data to the user’s preferred format on the fly.\n",
    "\n",
    "\n",
    "\n",
    "| 💡 Use Cases | 🚫 Not This |\n",
    "|-------------|-------------|\n",
    "| 📎 Share URLs to slices of your data | ❌ Not a file transfer tool (like Globus) |\n",
    "| 🧼 Skip the boilerplate I/O code | ❌ Not a storage format (like Zarr) |\n",
    "| 🔄 Swap formats or storage backends without breaking code | ❌ Not a plotting or analysis tool (like Plotly) |\n",
    "| 👥 Serve both file lovers and array users | ❌ Not a compute server |\n",
    "| 🚀 Move from files to databases, smoothly | ❌ Not tied to one format |\n",
    "\n",
    "\n",
    "### 📚 Learn more [here](https://blueskyproject.io/tiled/explanations/lineage.html)!\n",
    "\n",
    "\n",
    "### Try our Demo Deployment...\n",
    "\n",
    "* https://tiled-demo.blueskyproject.io/\n",
    "* In the browser or on your phone!\n",
    "\n",
    "### ...or Play with the Real Data!"
   ]
  },
  {
   "cell_type": "markdown",
   "id": "0a877d92-ccc1-4fd1-a6db-25502185cd42",
   "metadata": {},
   "source": [
    "## Initializing a Tiled Client"
   ]
  },
  {
   "cell_type": "code",
   "execution_count": 2,
   "id": "94d91cd1-5abb-4463-b6b2-de579f70bb7d",
   "metadata": {},
   "outputs": [
    {
     "name": "stdout",
     "output_type": "stream",
     "text": [
      "<Catalog {5, 6, 7, 8, 9, 10, 11, 12, 13, 14, ...} ~249327 entries>\n"
     ]
    }
   ],
   "source": [
    "# Method 1. From a Predefined Profile\n",
    "\n",
    "from tiled.client import from_profile\n",
    "c = from_profile('chx')\n",
    "\n",
    "print(c)"
   ]
  },
  {
   "cell_type": "code",
   "execution_count": 241,
   "id": "6caad521-85ef-4fa1-b759-3b1865eb0828",
   "metadata": {},
   "outputs": [
    {
     "data": {
      "text/plain": [
       "{'amx': PosixPath('/nsls2/software/etc/tiled/profiles/profiles.yml'),\n",
       " 'bmm': PosixPath('/nsls2/software/etc/tiled/profiles/profiles.yml'),\n",
       " 'chx': PosixPath('/nsls2/software/etc/tiled/profiles/profiles.yml'),\n",
       " 'cms': PosixPath('/nsls2/software/etc/tiled/profiles/profiles.yml'),\n",
       " 'csx': PosixPath('/nsls2/software/etc/tiled/profiles/profiles.yml'),\n",
       " 'esm': PosixPath('/nsls2/software/etc/tiled/profiles/profiles.yml'),\n",
       " 'arpes': PosixPath('/nsls2/software/etc/tiled/profiles/profiles.yml'),\n",
       " 'xpeem': PosixPath('/nsls2/software/etc/tiled/profiles/profiles.yml'),\n",
       " 'fmx': PosixPath('/nsls2/software/etc/tiled/profiles/profiles.yml'),\n",
       " 'haxpes': PosixPath('/nsls2/software/etc/tiled/profiles/profiles.yml'),\n",
       " 'hex': PosixPath('/nsls2/software/etc/tiled/profiles/profiles.yml'),\n",
       " 'hxn': PosixPath('/nsls2/software/etc/tiled/profiles/profiles.yml'),\n",
       " 'ios': PosixPath('/nsls2/software/etc/tiled/profiles/profiles.yml'),\n",
       " 'isr': PosixPath('/nsls2/software/etc/tiled/profiles/profiles.yml'),\n",
       " 'iss': PosixPath('/nsls2/software/etc/tiled/profiles/profiles.yml'),\n",
       " 'iss-dev-analyzed': PosixPath('/nsls2/software/etc/tiled/profiles/profiles.yml'),\n",
       " 'ixs': PosixPath('/nsls2/software/etc/tiled/profiles/profiles.yml'),\n",
       " 'lix': PosixPath('/nsls2/software/etc/tiled/profiles/profiles.yml'),\n",
       " 'nexafs': PosixPath('/nsls2/software/etc/tiled/profiles/profiles.yml'),\n",
       " 'nyx': PosixPath('/nsls2/software/etc/tiled/profiles/profiles.yml'),\n",
       " 'opls': PosixPath('/nsls2/software/etc/tiled/profiles/profiles.yml'),\n",
       " 'pdf': PosixPath('/nsls2/software/etc/tiled/profiles/profiles.yml'),\n",
       " 'six': PosixPath('/nsls2/software/etc/tiled/profiles/profiles.yml'),\n",
       " 'smi': PosixPath('/nsls2/software/etc/tiled/profiles/profiles.yml'),\n",
       " 'srx': PosixPath('/nsls2/software/etc/tiled/profiles/profiles.yml'),\n",
       " 'tes': PosixPath('/nsls2/software/etc/tiled/profiles/profiles.yml'),\n",
       " 'tst': PosixPath('/nsls2/software/etc/tiled/profiles/profiles.yml'),\n",
       " 'tst-sandbox': PosixPath('/nsls2/software/etc/tiled/profiles/profiles.yml'),\n",
       " 'qas': PosixPath('/nsls2/software/etc/tiled/profiles/profiles.yml'),\n",
       " 'rsoxs': PosixPath('/nsls2/software/etc/tiled/profiles/profiles.yml'),\n",
       " 'fxi': PosixPath('/nsls2/software/etc/tiled/profiles/profiles.yml'),\n",
       " 'xfm': PosixPath('/nsls2/software/etc/tiled/profiles/profiles.yml'),\n",
       " 'xfp': PosixPath('/nsls2/software/etc/tiled/profiles/profiles.yml'),\n",
       " 'xpd': PosixPath('/nsls2/software/etc/tiled/profiles/profiles.yml'),\n",
       " 'xpd-ldrd20-31': PosixPath('/nsls2/software/etc/tiled/profiles/profiles.yml'),\n",
       " 'xpdd': PosixPath('/nsls2/software/etc/tiled/profiles/profiles.yml'),\n",
       " 'nsls2': PosixPath('/nsls2/software/etc/tiled/profiles/nsls2.yml'),\n",
       " 'nsls2-staging': PosixPath('/nsls2/software/etc/tiled/profiles/nsls2.yml'),\n",
       " 'staging': PosixPath('/nsls2/software/etc/tiled/profiles/nsls2.yml')}"
      ]
     },
     "execution_count": 241,
     "metadata": {},
     "output_type": "execute_result"
    }
   ],
   "source": [
    "# To see the entire list of available profiles:\n",
    "import tiled\n",
    "tiled.profiles.list_profiles()"
   ]
  },
  {
   "cell_type": "code",
   "execution_count": 3,
   "id": "0f8b9899-220c-4d2d-a356-5136f365c1e1",
   "metadata": {},
   "outputs": [
    {
     "name": "stdout",
     "output_type": "stream",
     "text": [
      "<Container {'tst', 'amx', 'bmm', 'chx', 'cms', 'csx', 'esm', ...} ~35 entries>\n"
     ]
    }
   ],
   "source": [
    "# Method 2. From a URI\n",
    "\n",
    "from tiled.client import from_uri\n",
    "c_prod = from_uri(\"https://tiled.nsls2.bnl.gov\")  # Our production server (need to log in)\n",
    "\n",
    "print(c_prod)"
   ]
  },
  {
   "cell_type": "code",
   "execution_count": null,
   "id": "42865d8d-4cd7-4aad-8d93-f8d84bfce5eb",
   "metadata": {},
   "outputs": [],
   "source": [
    "c_demo = from_uri(\"https://tiled-demo.blueskyproject.io/\") # Our demo server; open to everyone!\n",
    "\n",
    "print(c_demo)"
   ]
  },
  {
   "cell_type": "markdown",
   "id": "3627476d-869f-4c83-b1f9-4e7c6488e99c",
   "metadata": {},
   "source": [
    "### Navigating the Catalog\n",
    "\n",
    "The intialized client points to the catalog of all Bluesky Runs (presented in a form of a dictionary). The runs listed in the order of their acquisition. Each individual run can be accessed in several ways.\n",
    "\n",
    "Learn more:\n",
    "\n",
    "* https://blueskyproject.io/tiled/tutorials/navigation.html"
   ]
  },
  {
   "cell_type": "code",
   "execution_count": 4,
   "id": "d27fd680-4ca1-441e-a4d9-7e599cbcb66e",
   "metadata": {},
   "outputs": [
    {
     "name": "stdout",
     "output_type": "stream",
     "text": [
      "<BlueskyRun {'primary'} scan_id=167135 uid='7c273459' 2025-04-03 13:17>\n",
      "First run in the catalog:\n",
      "<BlueskyRun set() scan_id=5 uid='cdf2aa32' 2015-03-03 16:37>\n",
      "Last run in the catalog:\n",
      "<BlueskyRun {'primary'} scan_id=167135 uid='7c273459' 2025-04-03 13:17>\n"
     ]
    }
   ],
   "source": [
    "# Method 1. Using a positional index\n",
    "run = c[-1]\n",
    "print(run)\n",
    "\n",
    "# ...or...\n",
    "\n",
    "run = c.values().first()\n",
    "print(f\"First run in the catalog:\\n{run}\")\n",
    "\n",
    "run = c.values().last()\n",
    "print(f\"Last run in the catalog:\\n{run}\")"
   ]
  },
  {
   "cell_type": "code",
   "execution_count": 6,
   "id": "9c1d29fb-31d2-4e5a-9177-1e32770f0a5b",
   "metadata": {},
   "outputs": [
    {
     "name": "stdout",
     "output_type": "stream",
     "text": [
      "<BlueskyRun {'eiger500K_single_image_metadata_patched_in_at_runtime', 'primary'} scan_id=123456 uid='92bd4434' 2022-12-18 13:24>\n"
     ]
    }
   ],
   "source": [
    "# Method 2. With a numerical ScanID\n",
    "run = c[123456]\n",
    "print(run)"
   ]
  },
  {
   "cell_type": "code",
   "execution_count": 7,
   "id": "55474b2c-6b3d-4d0c-9d92-6d53a09f7e12",
   "metadata": {},
   "outputs": [
    {
     "name": "stdout",
     "output_type": "stream",
     "text": [
      "<BlueskyRun {'eiger500K_single_image_metadata_patched_in_at_runtime', 'primary'} scan_id=123456 uid='92bd4434' 2022-12-18 13:24>\n"
     ]
    }
   ],
   "source": [
    "# Method 3. With a short (prefix) of the full uid\n",
    "run = c['92bd4434']\n",
    "print(run)"
   ]
  },
  {
   "cell_type": "code",
   "execution_count": 8,
   "id": "e4b9cf78-4e51-471e-ba51-99b22fbb12f5",
   "metadata": {},
   "outputs": [
    {
     "name": "stdout",
     "output_type": "stream",
     "text": [
      "<BlueskyRun {'eiger500K_single_image_metadata_patched_in_at_runtime', 'primary'} scan_id=123456 uid='92bd4434' 2022-12-18 13:24>\n"
     ]
    }
   ],
   "source": [
    "# Method 4. With the full uid (most reliable!)\n",
    "run = c['92bd4434-94dd-40c2-bb26-5b3359793e0a']\n",
    "print(run)"
   ]
  },
  {
   "cell_type": "markdown",
   "id": "d79726c3-4656-4004-a9f6-7eef82f2ed6d",
   "metadata": {},
   "source": [
    "The returned object `run` is a client object itself and can be treated similarly to the root catalog (e.g. perform key-value lookup or traverse it as a nested folder structure). The children (elemnets) of this container are individual Bluesky streams, which eventually contain the acquired data and configuration parameters of the instrument. The internal structure can be visualized as a tree and individual elements addressed with the usual Python syntax."
   ]
  },
  {
   "cell_type": "code",
   "execution_count": 141,
   "id": "1ef2a033-3403-4722-b45e-9cb2a7a9b157",
   "metadata": {},
   "outputs": [
    {
     "name": "stdout",
     "output_type": "stream",
     "text": [
      "├── primary\n",
      "│   ├── data\n",
      "│   │   ├── time\n",
      "│   │   ├── eiger500K_single_image\n",
      "│   │   ├── eiger500K_single_stats1_total\n",
      "│   │   ├── eiger500K_single_stats2_total\n",
      "│   │   ├── eiger500K_single_stats3_total\n",
      "│   │   ├── eiger500K_single_stats4_total\n",
      "│   │   └── eiger500K_single_stats5_total\n",
      "│   ├── timestamps\n",
      "│   │   ├── time\n",
      "│   │   ├── eiger500K_single_image\n",
      "│   │   ├── eiger500K_single_stats1_total\n",
      "│   │   ├── eiger500K_single_stats2_total\n",
      "│   │   ├── eiger500K_single_stats3_total\n",
      "│   │   ├── eiger500K_single_stats4_total\n",
      "│   │   └── eiger500K_single_stats5_total\n",
      "│   ├── config\n",
      "│   │   └── eiger500K_single\n",
      "│   │       ├── eiger500K_single_cam_acquire_period\n",
      "│   │       ├── eiger500K_single_cam_acquire_time\n",
      "│   │       ├── eiger500K_single_cam_num_images\n",
      "│   │       ├── eiger500K_single_beam_center_x\n",
      "│   │       ├── eiger500K_single_beam_center_y\n",
      "│   │       ├── eiger500K_single_wavelength\n",
      "│   │       ├── eiger500K_single_det_distance\n",
      "│   │       ├── eiger500K_single_threshold_energy\n",
      "│   │       ├── eiger500K_single_photon_energy\n",
      "│   │       ├── eiger500K_single_stats1_bgd_width\n",
      "│   │       ├── eiger500K_single_stats1_centroid_threshold\n",
      "<Output truncated at 30 lines. Adjust tree's max_lines parameter to see more.>\n"
     ]
    }
   ],
   "source": [
    "from tiled.utils import tree\n",
    "\n",
    "tree(run, max_lines=30)"
   ]
  },
  {
   "cell_type": "code",
   "execution_count": 145,
   "id": "529a079a-41c1-45e9-961f-3a6c6e2eda36",
   "metadata": {},
   "outputs": [
    {
     "name": "stdout",
     "output_type": "stream",
     "text": [
      "<BlueskyEventStream {'config', 'data', 'timestamps', 'config_timestamps'} stream_name='primary'>\n"
     ]
    }
   ],
   "source": [
    "stream = run['primary']\n",
    "\n",
    "print(stream)"
   ]
  },
  {
   "cell_type": "code",
   "execution_count": 162,
   "id": "4a66039e-72c2-4233-85b7-e794fccb2f89",
   "metadata": {},
   "outputs": [
    {
     "name": "stdout",
     "output_type": "stream",
     "text": [
      "<DatasetClient {'time', 'eiger500K_single_image', ...} ~7 entries>\n"
     ]
    }
   ],
   "source": [
    "data = stream['data']\n",
    "\n",
    "print(data)"
   ]
  },
  {
   "cell_type": "code",
   "execution_count": 208,
   "id": "e81ae90a-5a2d-4b16-ae0c-028634951b18",
   "metadata": {},
   "outputs": [
    {
     "name": "stdout",
     "output_type": "stream",
     "text": [
      "Stream names:  ['primary', 'eiger500K_single_image_metadata_patched_in_at_runtime']\n",
      "\n",
      "Data keys in the 'primary' stream:\n",
      "\ttime\n",
      "\teiger500K_single_image\n",
      "\teiger500K_single_stats1_total\n",
      "\teiger500K_single_stats2_total\n",
      "\teiger500K_single_stats3_total\n",
      "\teiger500K_single_stats4_total\n",
      "\teiger500K_single_stats5_total\n"
     ]
    }
   ],
   "source": [
    "# It is possible to list all elements of a specific container as its keys\n",
    "print(\"Stream names: \", list(run.keys()))\n",
    "\n",
    "print(\"\\nData keys in the 'primary' stream:\")\n",
    "for data_key in run['primary']['data'].keys():\n",
    "    print(f\"\\t{data_key}\")"
   ]
  },
  {
   "cell_type": "markdown",
   "id": "e01cb654-7391-408f-9562-a56feec9f805",
   "metadata": {},
   "source": [
    "### Metadata Contains Very Useful Information"
   ]
  },
  {
   "cell_type": "code",
   "execution_count": null,
   "id": "82a8bd18-5455-4f7b-90cf-b7bb123757b2",
   "metadata": {
    "scrolled": true
   },
   "outputs": [],
   "source": [
    "run.metadata"
   ]
  },
  {
   "cell_type": "code",
   "execution_count": null,
   "id": "ba5f1dc2-283d-433b-bec3-541b73d77304",
   "metadata": {
    "scrolled": true
   },
   "outputs": [],
   "source": [
    "stream.metadata"
   ]
  },
  {
   "cell_type": "code",
   "execution_count": 155,
   "id": "5a7d2f72-8ce6-43b4-ba48-50f97014cb2b",
   "metadata": {},
   "outputs": [
    {
     "data": {
      "text/plain": [
       "{'attrs': {'object': 'eiger500K_single'}}"
      ]
     },
     "execution_count": 155,
     "metadata": {},
     "output_type": "execute_result"
    }
   ],
   "source": [
    "data.metadata"
   ]
  },
  {
   "cell_type": "markdown",
   "id": "2b439e74-8026-4e82-9628-3393d2917567",
   "metadata": {},
   "source": [
    "### Accessing Data in the Catalog\n",
    "\n",
    "The `data` object above is a special type of client that allows us to read the data as arrays or tables or all of them simultaneously in a form of an xarray dataset."
   ]
  },
  {
   "cell_type": "code",
   "execution_count": 10,
   "id": "0fbad1f6-553a-4aa7-aa1d-4c8d20858d19",
   "metadata": {},
   "outputs": [
    {
     "name": "stdout",
     "output_type": "stream",
     "text": [
      "<ArrayClient shape=(1, 1000, 514, 1030) chunks=((1,), (10, 10, 10, 10, 10, 10, 10, 10, 10, 10, 10, 10, 10, 10, 10, 10, 10, 10, 10, 10, 10, 10, 10, 10, 10, 10, 10, 10, 10, 10, 10, 10, 10, 10, 10, 10, 10, 10, 10, 10, 10, 10, 10, 10, 10, 10, 10, 10, 10, 10, 10, 10, 10, 10, 10, 10, 10, 10, 10, 10, 10, 10, 10, 10, 10, 10, 10, 10, 10, 10, 10, 10, 10, 10, 10, 10, 10, 10, 10, 10, 10, 10, 10, 10, 10, 10, 10, 10, 10, 10, 10, 10, 10, 10, 10, 10, 10, 10, 10, 10), (514,), (1030,)) dtype=uint8 dims=('time', 'dim_0', 'dim_1', 'dim_2')>\n"
     ]
    }
   ],
   "source": [
    "img = c[123456]['primary/data/eiger500K_single_image']  # A shorthand notation :)\n",
    "\n",
    "print(img)"
   ]
  },
  {
   "cell_type": "markdown",
   "id": "d676b01c-ecbf-4196-a387-ef28d71b802f",
   "metadata": {},
   "source": [
    "The `img` object is still a \"client\", but now to the actual array, which allows us to inspect it's shape, data type and other attributes. Even though, nothing has been downloded yet, one can slice it as if it was a usual NumPy array."
   ]
  },
  {
   "cell_type": "code",
   "execution_count": 159,
   "id": "93a39602-4c88-4135-a0f6-cc2a9cbfd5de",
   "metadata": {},
   "outputs": [
    {
     "name": "stdout",
     "output_type": "stream",
     "text": [
      "type(img0)=<class 'numpy.ndarray'>, img0.shape=(514, 1030)\n"
     ]
    }
   ],
   "source": [
    "img0 = img[0, 0, ...]\n",
    "\n",
    "print(f\"{type(img0)=}, {img0.shape=}\")"
   ]
  },
  {
   "cell_type": "code",
   "execution_count": 160,
   "id": "89516361-8dc4-449a-93fb-811f5eb3e9bc",
   "metadata": {},
   "outputs": [
    {
     "data": {
      "text/plain": [
       "<matplotlib.image.AxesImage at 0x15229c203e10>"
      ]
     },
     "execution_count": 160,
     "metadata": {},
     "output_type": "execute_result"
    },
    {
     "data": {
      "image/png": "[encoded data removed]",
      "text/plain": [
       "<Figure size 640x480 with 1 Axes>"
      ]
     },
     "metadata": {},
     "output_type": "display_data"
    }
   ],
   "source": [
    "import matplotlib.pyplot as plt\n",
    "\n",
    "plt.imshow(img0)"
   ]
  },
  {
   "cell_type": "code",
   "execution_count": 173,
   "id": "2d6da683-4ea2-4fb8-a695-00fa2d147871",
   "metadata": {},
   "outputs": [
    {
     "data": {
      "text/plain": [
       "array([6100.])"
      ]
     },
     "execution_count": 173,
     "metadata": {},
     "output_type": "execute_result"
    }
   ],
   "source": [
    "# Or read an entire array\n",
    "arr = data['eiger500K_single_stats1_total'].read()\n",
    "\n",
    "arr"
   ]
  },
  {
   "cell_type": "code",
   "execution_count": 195,
   "id": "eb6243d3-2477-4c75-9282-f4e9b1920293",
   "metadata": {},
   "outputs": [
    {
     "data": {
      "text/html": [
       "<div><svg style=\"position: absolute; width: 0; height: 0; overflow: hidden\">\n",
       "<defs>\n",
       "<symbol id=\"icon-database\" viewBox=\"0 0 32 32\">\n",
       "<path d=\"M16 0c-8.837 0-16 2.239-16 5v4c0 2.761 7.163 5 16 5s16-2.239 16-5v-4c0-2.761-7.163-5-16-5z\"></path>\n",
       "<path d=\"M16 17c-8.837 0-16-2.239-16-5v6c0 2.761 7.163 5 16 5s16-2.239 16-5v-6c0 2.761-7.163 5-16 5z\"></path>\n",
       "<path d=\"M16 26c-8.837 0-16-2.239-16-5v6c0 2.761 7.163 5 16 5s16-2.239 16-5v-6c0 2.761-7.163 5-16 5z\"></path>\n",
       "</symbol>\n",
       "<symbol id=\"icon-file-text2\" viewBox=\"0 0 32 32\">\n",
       "<path d=\"M28.681 7.159c-0.694-0.947-1.662-2.053-2.724-3.116s-2.169-2.030-3.116-2.724c-1.612-1.182-2.393-1.319-2.841-1.319h-15.5c-1.378 0-2.5 1.121-2.5 2.5v27c0 1.378 1.122 2.5 2.5 2.5h23c1.378 0 2.5-1.122 2.5-2.5v-19.5c0-0.448-0.137-1.23-1.319-2.841zM24.543 5.457c0.959 0.959 1.712 1.825 2.268 2.543h-4.811v-4.811c0.718 0.556 1.584 1.309 2.543 2.268zM28 29.5c0 0.271-0.229 0.5-0.5 0.5h-23c-0.271 0-0.5-0.229-0.5-0.5v-27c0-0.271 0.229-0.5 0.5-0.5 0 0 15.499-0 15.5 0v7c0 0.552 0.448 1 1 1h7v19.5z\"></path>\n",
       "<path d=\"M23 26h-14c-0.552 0-1-0.448-1-1s0.448-1 1-1h14c0.552 0 1 0.448 1 1s-0.448 1-1 1z\"></path>\n",
       "<path d=\"M23 22h-14c-0.552 0-1-0.448-1-1s0.448-1 1-1h14c0.552 0 1 0.448 1 1s-0.448 1-1 1z\"></path>\n",
       "<path d=\"M23 18h-14c-0.552 0-1-0.448-1-1s0.448-1 1-1h14c0.552 0 1 0.448 1 1s-0.448 1-1 1z\"></path>\n",
       "</symbol>\n",
       "</defs>\n",
       "</svg>\n",
       "<style>/* CSS stylesheet for displaying xarray objects in jupyterlab.\n",
       " *\n",
       " */\n",
       "\n",
       ":root {\n",
       "  --xr-font-color0: var(--jp-content-font-color0, rgba(0, 0, 0, 1));\n",
       "  --xr-font-color2: var(--jp-content-font-color2, rgba(0, 0, 0, 0.54));\n",
       "  --xr-font-color3: var(--jp-content-font-color3, rgba(0, 0, 0, 0.38));\n",
       "  --xr-border-color: var(--jp-border-color2, #e0e0e0);\n",
       "  --xr-disabled-color: var(--jp-layout-color3, #bdbdbd);\n",
       "  --xr-background-color: var(--jp-layout-color0, white);\n",
       "  --xr-background-color-row-even: var(--jp-layout-color1, white);\n",
       "  --xr-background-color-row-odd: var(--jp-layout-color2, #eeeeee);\n",
       "}\n",
       "\n",
       "html[theme=dark],\n",
       "body[data-theme=dark],\n",
       "body.vscode-dark {\n",
       "  --xr-font-color0: rgba(255, 255, 255, 1);\n",
       "  --xr-font-color2: rgba(255, 255, 255, 0.54);\n",
       "  --xr-font-color3: rgba(255, 255, 255, 0.38);\n",
       "  --xr-border-color: #1F1F1F;\n",
       "  --xr-disabled-color: #515151;\n",
       "  --xr-background-color: #111111;\n",
       "  --xr-background-color-row-even: #111111;\n",
       "  --xr-background-color-row-odd: #313131;\n",
       "}\n",
       "\n",
       ".xr-wrap {\n",
       "  display: block !important;\n",
       "  min-width: 300px;\n",
       "  max-width: 700px;\n",
       "}\n",
       "\n",
       ".xr-text-repr-fallback {\n",
       "  /* fallback to plain text repr when CSS is not injected (untrusted notebook) */\n",
       "  display: none;\n",
       "}\n",
       "\n",
       ".xr-header {\n",
       "  padding-top: 6px;\n",
       "  padding-bottom: 6px;\n",
       "  margin-bottom: 4px;\n",
       "  border-bottom: solid 1px var(--xr-border-color);\n",
       "}\n",
       "\n",
       ".xr-header > div,\n",
       ".xr-header > ul {\n",
       "  display: inline;\n",
       "  margin-top: 0;\n",
       "  margin-bottom: 0;\n",
       "}\n",
       "\n",
       ".xr-obj-type,\n",
       ".xr-array-name {\n",
       "  margin-left: 2px;\n",
       "  margin-right: 10px;\n",
       "}\n",
       "\n",
       ".xr-obj-type {\n",
       "  color: var(--xr-font-color2);\n",
       "}\n",
       "\n",
       ".xr-sections {\n",
       "  padding-left: 0 !important;\n",
       "  display: grid;\n",
       "  grid-template-columns: 150px auto auto 1fr 20px 20px;\n",
       "}\n",
       "\n",
       ".xr-section-item {\n",
       "  display: contents;\n",
       "}\n",
       "\n",
       ".xr-section-item input {\n",
       "  display: none;\n",
       "}\n",
       "\n",
       ".xr-section-item input + label {\n",
       "  color: var(--xr-disabled-color);\n",
       "}\n",
       "\n",
       ".xr-section-item input:enabled + label {\n",
       "  cursor: pointer;\n",
       "  color: var(--xr-font-color2);\n",
       "}\n",
       "\n",
       ".xr-section-item input:enabled + label:hover {\n",
       "  color: var(--xr-font-color0);\n",
       "}\n",
       "\n",
       ".xr-section-summary {\n",
       "  grid-column: 1;\n",
       "  color: var(--xr-font-color2);\n",
       "  font-weight: 500;\n",
       "}\n",
       "\n",
       ".xr-section-summary > span {\n",
       "  display: inline-block;\n",
       "  padding-left: 0.5em;\n",
       "}\n",
       "\n",
       ".xr-section-summary-in:disabled + label {\n",
       "  color: var(--xr-font-color2);\n",
       "}\n",
       "\n",
       ".xr-section-summary-in + label:before {\n",
       "  display: inline-block;\n",
       "  content: '►';\n",
       "  font-size: 11px;\n",
       "  width: 15px;\n",
       "  text-align: center;\n",
       "}\n",
       "\n",
       ".xr-section-summary-in:disabled + label:before {\n",
       "  color: var(--xr-disabled-color);\n",
       "}\n",
       "\n",
       ".xr-section-summary-in:checked + label:before {\n",
       "  content: '▼';\n",
       "}\n",
       "\n",
       ".xr-section-summary-in:checked + label > span {\n",
       "  display: none;\n",
       "}\n",
       "\n",
       ".xr-section-summary,\n",
       ".xr-section-inline-details {\n",
       "  padding-top: 4px;\n",
       "  padding-bottom: 4px;\n",
       "}\n",
       "\n",
       ".xr-section-inline-details {\n",
       "  grid-column: 2 / -1;\n",
       "}\n",
       "\n",
       ".xr-section-details {\n",
       "  display: none;\n",
       "  grid-column: 1 / -1;\n",
       "  margin-bottom: 5px;\n",
       "}\n",
       "\n",
       ".xr-section-summary-in:checked ~ .xr-section-details {\n",
       "  display: contents;\n",
       "}\n",
       "\n",
       ".xr-array-wrap {\n",
       "  grid-column: 1 / -1;\n",
       "  display: grid;\n",
       "  grid-template-columns: 20px auto;\n",
       "}\n",
       "\n",
       ".xr-array-wrap > label {\n",
       "  grid-column: 1;\n",
       "  vertical-align: top;\n",
       "}\n",
       "\n",
       ".xr-preview {\n",
       "  color: var(--xr-font-color3);\n",
       "}\n",
       "\n",
       ".xr-array-preview,\n",
       ".xr-array-data {\n",
       "  padding: 0 5px !important;\n",
       "  grid-column: 2;\n",
       "}\n",
       "\n",
       ".xr-array-data,\n",
       ".xr-array-in:checked ~ .xr-array-preview {\n",
       "  display: none;\n",
       "}\n",
       "\n",
       ".xr-array-in:checked ~ .xr-array-data,\n",
       ".xr-array-preview {\n",
       "  display: inline-block;\n",
       "}\n",
       "\n",
       ".xr-dim-list {\n",
       "  display: inline-block !important;\n",
       "  list-style: none;\n",
       "  padding: 0 !important;\n",
       "  margin: 0;\n",
       "}\n",
       "\n",
       ".xr-dim-list li {\n",
       "  display: inline-block;\n",
       "  padding: 0;\n",
       "  margin: 0;\n",
       "}\n",
       "\n",
       ".xr-dim-list:before {\n",
       "  content: '(';\n",
       "}\n",
       "\n",
       ".xr-dim-list:after {\n",
       "  content: ')';\n",
       "}\n",
       "\n",
       ".xr-dim-list li:not(:last-child):after {\n",
       "  content: ',';\n",
       "  padding-right: 5px;\n",
       "}\n",
       "\n",
       ".xr-has-index {\n",
       "  font-weight: bold;\n",
       "}\n",
       "\n",
       ".xr-var-list,\n",
       ".xr-var-item {\n",
       "  display: contents;\n",
       "}\n",
       "\n",
       ".xr-var-item > div,\n",
       ".xr-var-item label,\n",
       ".xr-var-item > .xr-var-name span {\n",
       "  background-color: var(--xr-background-color-row-even);\n",
       "  margin-bottom: 0;\n",
       "}\n",
       "\n",
       ".xr-var-item > .xr-var-name:hover span {\n",
       "  padding-right: 5px;\n",
       "}\n",
       "\n",
       ".xr-var-list > li:nth-child(odd) > div,\n",
       ".xr-var-list > li:nth-child(odd) > label,\n",
       ".xr-var-list > li:nth-child(odd) > .xr-var-name span {\n",
       "  background-color: var(--xr-background-color-row-odd);\n",
       "}\n",
       "\n",
       ".xr-var-name {\n",
       "  grid-column: 1;\n",
       "}\n",
       "\n",
       ".xr-var-dims {\n",
       "  grid-column: 2;\n",
       "}\n",
       "\n",
       ".xr-var-dtype {\n",
       "  grid-column: 3;\n",
       "  text-align: right;\n",
       "  color: var(--xr-font-color2);\n",
       "}\n",
       "\n",
       ".xr-var-preview {\n",
       "  grid-column: 4;\n",
       "}\n",
       "\n",
       ".xr-index-preview {\n",
       "  grid-column: 2 / 5;\n",
       "  color: var(--xr-font-color2);\n",
       "}\n",
       "\n",
       ".xr-var-name,\n",
       ".xr-var-dims,\n",
       ".xr-var-dtype,\n",
       ".xr-preview,\n",
       ".xr-attrs dt {\n",
       "  white-space: nowrap;\n",
       "  overflow: hidden;\n",
       "  text-overflow: ellipsis;\n",
       "  padding-right: 10px;\n",
       "}\n",
       "\n",
       ".xr-var-name:hover,\n",
       ".xr-var-dims:hover,\n",
       ".xr-var-dtype:hover,\n",
       ".xr-attrs dt:hover {\n",
       "  overflow: visible;\n",
       "  width: auto;\n",
       "  z-index: 1;\n",
       "}\n",
       "\n",
       ".xr-var-attrs,\n",
       ".xr-var-data,\n",
       ".xr-index-data {\n",
       "  display: none;\n",
       "  background-color: var(--xr-background-color) !important;\n",
       "  padding-bottom: 5px !important;\n",
       "}\n",
       "\n",
       ".xr-var-attrs-in:checked ~ .xr-var-attrs,\n",
       ".xr-var-data-in:checked ~ .xr-var-data,\n",
       ".xr-index-data-in:checked ~ .xr-index-data {\n",
       "  display: block;\n",
       "}\n",
       "\n",
       ".xr-var-data > table {\n",
       "  float: right;\n",
       "}\n",
       "\n",
       ".xr-var-name span,\n",
       ".xr-var-data,\n",
       ".xr-index-name div,\n",
       ".xr-index-data,\n",
       ".xr-attrs {\n",
       "  padding-left: 25px !important;\n",
       "}\n",
       "\n",
       ".xr-attrs,\n",
       ".xr-var-attrs,\n",
       ".xr-var-data,\n",
       ".xr-index-data {\n",
       "  grid-column: 1 / -1;\n",
       "}\n",
       "\n",
       "dl.xr-attrs {\n",
       "  padding: 0;\n",
       "  margin: 0;\n",
       "  display: grid;\n",
       "  grid-template-columns: 125px auto;\n",
       "}\n",
       "\n",
       ".xr-attrs dt,\n",
       ".xr-attrs dd {\n",
       "  padding: 0;\n",
       "  margin: 0;\n",
       "  float: left;\n",
       "  padding-right: 10px;\n",
       "  width: auto;\n",
       "}\n",
       "\n",
       ".xr-attrs dt {\n",
       "  font-weight: normal;\n",
       "  grid-column: 1;\n",
       "}\n",
       "\n",
       ".xr-attrs dt:hover span {\n",
       "  display: inline-block;\n",
       "  background: var(--xr-background-color);\n",
       "  padding-right: 10px;\n",
       "}\n",
       "\n",
       ".xr-attrs dd {\n",
       "  grid-column: 2;\n",
       "  white-space: pre-wrap;\n",
       "  word-break: break-all;\n",
       "}\n",
       "\n",
       ".xr-icon-database,\n",
       ".xr-icon-file-text2,\n",
       ".xr-no-icon {\n",
       "  display: inline-block;\n",
       "  vertical-align: middle;\n",
       "  width: 1em;\n",
       "  height: 1.5em !important;\n",
       "  stroke-width: 0;\n",
       "  stroke: currentColor;\n",
       "  fill: currentColor;\n",
       "}\n",
       "</style><pre class='xr-text-repr-fallback'>&lt;xarray.Dataset&gt; Size: 529MB\n",
       "Dimensions:                        (time: 1, dim_0: 1000, dim_1: 514,\n",
       "                                    dim_2: 1030)\n",
       "Coordinates:\n",
       "  * time                           (time) float64 8B 1.671e+09\n",
       "Dimensions without coordinates: dim_0, dim_1, dim_2\n",
       "Data variables:\n",
       "    eiger500K_single_image         (time, dim_0, dim_1, dim_2) uint8 529MB 0 ...\n",
       "    eiger500K_single_stats1_total  (time) float64 8B 6.1e+03\n",
       "    eiger500K_single_stats2_total  (time) float64 8B 6.293e+03\n",
       "    eiger500K_single_stats3_total  (time) float64 8B 6.015e+03\n",
       "    eiger500K_single_stats4_total  (time) float64 8B 5.883e+03\n",
       "    eiger500K_single_stats5_total  (time) float64 8B 5.034e+03\n",
       "Attributes:\n",
       "    stream_name:  primary</pre><div class='xr-wrap' style='display:none'><div class='xr-header'><div class='xr-obj-type'>xarray.Dataset</div></div><ul class='xr-sections'><li class='xr-section-item'><input id='section-385d4606-7570-44ec-93a5-db9314c10495' class='xr-section-summary-in' type='checkbox' disabled ><label for='section-385d4606-7570-44ec-93a5-db9314c10495' class='xr-section-summary'  title='Expand/collapse section'>Dimensions:</label><div class='xr-section-inline-details'><ul class='xr-dim-list'><li><span class='xr-has-index'>time</span>: 1</li><li><span>dim_0</span>: 1000</li><li><span>dim_1</span>: 514</li><li><span>dim_2</span>: 1030</li></ul></div><div class='xr-section-details'></div></li><li class='xr-section-item'><input id='section-13b5fb39-6ce9-47f7-b411-3370e08eaefa' class='xr-section-summary-in' type='checkbox'  checked><label for='section-13b5fb39-6ce9-47f7-b411-3370e08eaefa' class='xr-section-summary' >Coordinates: <span>(1)</span></label><div class='xr-section-inline-details'></div><div class='xr-section-details'><ul class='xr-var-list'><li class='xr-var-item'><div class='xr-var-name'><span class='xr-has-index'>time</span></div><div class='xr-var-dims'>(time)</div><div class='xr-var-dtype'>float64</div><div class='xr-var-preview xr-preview'>1.671e+09</div><input id='attrs-e4978de5-f385-433a-a366-5d9be029d4c3' class='xr-var-attrs-in' type='checkbox' disabled><label for='attrs-e4978de5-f385-433a-a366-5d9be029d4c3' title='Show/Hide attributes'><svg class='icon xr-icon-file-text2'><use xlink:href='#icon-file-text2'></use></svg></label><input id='data-e47f6b0e-d90f-44b9-9171-e212b36108aa' class='xr-var-data-in' type='checkbox'><label for='data-e47f6b0e-d90f-44b9-9171-e212b36108aa' title='Show/Hide data repr'><svg class='icon xr-icon-database'><use xlink:href='#icon-database'></use></svg></label><div class='xr-var-attrs'><dl class='xr-attrs'></dl></div><div class='xr-var-data'><pre>array([1.671388e+09])</pre></div></li></ul></div></li><li class='xr-section-item'><input id='section-945f5a59-bc5c-4982-b371-ee4f80d7c048' class='xr-section-summary-in' type='checkbox'  checked><label for='section-945f5a59-bc5c-4982-b371-ee4f80d7c048' class='xr-section-summary' >Data variables: <span>(6)</span></label><div class='xr-section-inline-details'></div><div class='xr-section-details'><ul class='xr-var-list'><li class='xr-var-item'><div class='xr-var-name'><span>eiger500K_single_image</span></div><div class='xr-var-dims'>(time, dim_0, dim_1, dim_2)</div><div class='xr-var-dtype'>uint8</div><div class='xr-var-preview xr-preview'>0 0 0 0 0 0 0 0 ... 0 0 0 0 0 0 255</div><input id='attrs-ce98efb0-3ac8-4241-8210-e28b0fe1dbbd' class='xr-var-attrs-in' type='checkbox' disabled><label for='attrs-ce98efb0-3ac8-4241-8210-e28b0fe1dbbd' title='Show/Hide attributes'><svg class='icon xr-icon-file-text2'><use xlink:href='#icon-file-text2'></use></svg></label><input id='data-2ba10be0-db77-41bc-a049-476dd63f8740' class='xr-var-data-in' type='checkbox'><label for='data-2ba10be0-db77-41bc-a049-476dd63f8740' title='Show/Hide data repr'><svg class='icon xr-icon-database'><use xlink:href='#icon-database'></use></svg></label><div class='xr-var-attrs'><dl class='xr-attrs'></dl></div><div class='xr-var-data'><pre>array([[[[  0,   0,   0, ...,   0,   0, 255],\n",
       "         [  0,   0,   0, ...,   0,   0,   0],\n",
       "         [  0,   0,   0, ...,   0,   0,   0],\n",
       "         ...,\n",
       "         [  0,   0,   0, ...,   0,   0,   0],\n",
       "         [  0,   0,   0, ...,   0,   0,   0],\n",
       "         [  0,   0,   0, ...,   0,   0, 255]],\n",
       "\n",
       "        [[  0,   0,   0, ...,   0,   0, 255],\n",
       "         [  0,   0,   0, ...,   0,   0,   0],\n",
       "         [  0,   0,   0, ...,   0,   0,   0],\n",
       "         ...,\n",
       "         [  0,   0,   0, ...,   0,   0,   0],\n",
       "         [  0,   0,   0, ...,   0,   0,   0],\n",
       "         [  0,   0,   0, ...,   0,   0, 255]],\n",
       "\n",
       "        [[  0,   0,   0, ...,   0,   0, 255],\n",
       "         [  0,   0,   0, ...,   0,   0,   0],\n",
       "         [  0,   0,   0, ...,   0,   0,   0],\n",
       "         ...,\n",
       "...\n",
       "         ...,\n",
       "         [  0,   0,   0, ...,   0,   0,   0],\n",
       "         [  0,   0,   0, ...,   0,   0,   0],\n",
       "         [  0,   0,   0, ...,   0,   0, 255]],\n",
       "\n",
       "        [[  0,   0,   0, ...,   0,   0, 255],\n",
       "         [  0,   0,   0, ...,   0,   0,   0],\n",
       "         [  0,   0,   0, ...,   0,   0,   0],\n",
       "         ...,\n",
       "         [  0,   0,   0, ...,   0,   0,   0],\n",
       "         [  0,   0,   0, ...,   0,   0,   0],\n",
       "         [  0,   0,   0, ...,   0,   0, 255]],\n",
       "\n",
       "        [[  0,   0,   0, ...,   0,   0, 255],\n",
       "         [  0,   0,   0, ...,   0,   0,   0],\n",
       "         [  0,   0,   0, ...,   0,   0,   0],\n",
       "         ...,\n",
       "         [  0,   0,   0, ...,   0,   0,   0],\n",
       "         [  0,   0,   0, ...,   0,   0,   0],\n",
       "         [  0,   0,   0, ...,   0,   0, 255]]]], dtype=uint8)</pre></div></li><li class='xr-var-item'><div class='xr-var-name'><span>eiger500K_single_stats1_total</span></div><div class='xr-var-dims'>(time)</div><div class='xr-var-dtype'>float64</div><div class='xr-var-preview xr-preview'>6.1e+03</div><input id='attrs-928bbb6d-6ae3-42fa-8850-cdbcb2eeb561' class='xr-var-attrs-in' type='checkbox' disabled><label for='attrs-928bbb6d-6ae3-42fa-8850-cdbcb2eeb561' title='Show/Hide attributes'><svg class='icon xr-icon-file-text2'><use xlink:href='#icon-file-text2'></use></svg></label><input id='data-4a69dabc-add0-4146-8263-b01050daa7ff' class='xr-var-data-in' type='checkbox'><label for='data-4a69dabc-add0-4146-8263-b01050daa7ff' title='Show/Hide data repr'><svg class='icon xr-icon-database'><use xlink:href='#icon-database'></use></svg></label><div class='xr-var-attrs'><dl class='xr-attrs'></dl></div><div class='xr-var-data'><pre>array([6100.])</pre></div></li><li class='xr-var-item'><div class='xr-var-name'><span>eiger500K_single_stats2_total</span></div><div class='xr-var-dims'>(time)</div><div class='xr-var-dtype'>float64</div><div class='xr-var-preview xr-preview'>6.293e+03</div><input id='attrs-1845c57a-5562-48aa-a906-b30f388a634f' class='xr-var-attrs-in' type='checkbox' disabled><label for='attrs-1845c57a-5562-48aa-a906-b30f388a634f' title='Show/Hide attributes'><svg class='icon xr-icon-file-text2'><use xlink:href='#icon-file-text2'></use></svg></label><input id='data-6657d808-6d9a-48bc-a52a-0fe752f5bc03' class='xr-var-data-in' type='checkbox'><label for='data-6657d808-6d9a-48bc-a52a-0fe752f5bc03' title='Show/Hide data repr'><svg class='icon xr-icon-database'><use xlink:href='#icon-database'></use></svg></label><div class='xr-var-attrs'><dl class='xr-attrs'></dl></div><div class='xr-var-data'><pre>array([6293.])</pre></div></li><li class='xr-var-item'><div class='xr-var-name'><span>eiger500K_single_stats3_total</span></div><div class='xr-var-dims'>(time)</div><div class='xr-var-dtype'>float64</div><div class='xr-var-preview xr-preview'>6.015e+03</div><input id='attrs-d946c04a-9f4c-48b2-b985-7ad504a5b0ae' class='xr-var-attrs-in' type='checkbox' disabled><label for='attrs-d946c04a-9f4c-48b2-b985-7ad504a5b0ae' title='Show/Hide attributes'><svg class='icon xr-icon-file-text2'><use xlink:href='#icon-file-text2'></use></svg></label><input id='data-37b0d5f8-498b-45c3-b39d-075fcbad81cc' class='xr-var-data-in' type='checkbox'><label for='data-37b0d5f8-498b-45c3-b39d-075fcbad81cc' title='Show/Hide data repr'><svg class='icon xr-icon-database'><use xlink:href='#icon-database'></use></svg></label><div class='xr-var-attrs'><dl class='xr-attrs'></dl></div><div class='xr-var-data'><pre>array([6015.])</pre></div></li><li class='xr-var-item'><div class='xr-var-name'><span>eiger500K_single_stats4_total</span></div><div class='xr-var-dims'>(time)</div><div class='xr-var-dtype'>float64</div><div class='xr-var-preview xr-preview'>5.883e+03</div><input id='attrs-ab96da85-ba2d-4a40-baa4-843e226802dc' class='xr-var-attrs-in' type='checkbox' disabled><label for='attrs-ab96da85-ba2d-4a40-baa4-843e226802dc' title='Show/Hide attributes'><svg class='icon xr-icon-file-text2'><use xlink:href='#icon-file-text2'></use></svg></label><input id='data-40461c6f-16a1-4a72-b800-591ae73ea38d' class='xr-var-data-in' type='checkbox'><label for='data-40461c6f-16a1-4a72-b800-591ae73ea38d' title='Show/Hide data repr'><svg class='icon xr-icon-database'><use xlink:href='#icon-database'></use></svg></label><div class='xr-var-attrs'><dl class='xr-attrs'></dl></div><div class='xr-var-data'><pre>array([5883.])</pre></div></li><li class='xr-var-item'><div class='xr-var-name'><span>eiger500K_single_stats5_total</span></div><div class='xr-var-dims'>(time)</div><div class='xr-var-dtype'>float64</div><div class='xr-var-preview xr-preview'>5.034e+03</div><input id='attrs-5b38c056-76f3-474b-b5be-6209b8fbee61' class='xr-var-attrs-in' type='checkbox' disabled><label for='attrs-5b38c056-76f3-474b-b5be-6209b8fbee61' title='Show/Hide attributes'><svg class='icon xr-icon-file-text2'><use xlink:href='#icon-file-text2'></use></svg></label><input id='data-d7872a2e-5324-43df-9685-582629568fd7' class='xr-var-data-in' type='checkbox'><label for='data-d7872a2e-5324-43df-9685-582629568fd7' title='Show/Hide data repr'><svg class='icon xr-icon-database'><use xlink:href='#icon-database'></use></svg></label><div class='xr-var-attrs'><dl class='xr-attrs'></dl></div><div class='xr-var-data'><pre>array([5034.])</pre></div></li></ul></div></li><li class='xr-section-item'><input id='section-3b2cdfec-6a1f-4ff3-8347-1478bcfaf483' class='xr-section-summary-in' type='checkbox'  ><label for='section-3b2cdfec-6a1f-4ff3-8347-1478bcfaf483' class='xr-section-summary' >Indexes: <span>(1)</span></label><div class='xr-section-inline-details'></div><div class='xr-section-details'><ul class='xr-var-list'><li class='xr-var-item'><div class='xr-index-name'><div>time</div></div><div class='xr-index-preview'>PandasIndex</div><div></div><input id='index-c83dc958-3a38-47a2-be09-83bd3556b755' class='xr-index-data-in' type='checkbox'/><label for='index-c83dc958-3a38-47a2-be09-83bd3556b755' title='Show/Hide index repr'><svg class='icon xr-icon-database'><use xlink:href='#icon-database'></use></svg></label><div class='xr-index-data'><pre>PandasIndex(Index([1671387844.8358228], dtype=&#x27;float64&#x27;, name=&#x27;time&#x27;))</pre></div></li></ul></div></li><li class='xr-section-item'><input id='section-7e27b199-a302-4f03-be5d-ba1bdb241f6c' class='xr-section-summary-in' type='checkbox'  checked><label for='section-7e27b199-a302-4f03-be5d-ba1bdb241f6c' class='xr-section-summary' >Attributes: <span>(1)</span></label><div class='xr-section-inline-details'></div><div class='xr-section-details'><dl class='xr-attrs'><dt><span>stream_name :</span></dt><dd>primary</dd></dl></div></li></ul></div></div>"
      ],
      "text/plain": [
       "<xarray.Dataset> Size: 529MB\n",
       "Dimensions:                        (time: 1, dim_0: 1000, dim_1: 514,\n",
       "                                    dim_2: 1030)\n",
       "Coordinates:\n",
       "  * time                           (time) float64 8B 1.671e+09\n",
       "Dimensions without coordinates: dim_0, dim_1, dim_2\n",
       "Data variables:\n",
       "    eiger500K_single_image         (time, dim_0, dim_1, dim_2) uint8 529MB 0 ...\n",
       "    eiger500K_single_stats1_total  (time) float64 8B 6.1e+03\n",
       "    eiger500K_single_stats2_total  (time) float64 8B 6.293e+03\n",
       "    eiger500K_single_stats3_total  (time) float64 8B 6.015e+03\n",
       "    eiger500K_single_stats4_total  (time) float64 8B 5.883e+03\n",
       "    eiger500K_single_stats5_total  (time) float64 8B 5.034e+03\n",
       "Attributes:\n",
       "    stream_name:  primary"
      ]
     },
     "execution_count": 195,
     "metadata": {},
     "output_type": "execute_result"
    }
   ],
   "source": [
    "# We can also read an entire dataset in one go\n",
    "ds = data.read()\n",
    "\n",
    "ds"
   ]
  },
  {
   "cell_type": "code",
   "execution_count": 229,
   "id": "564f7972-261a-4da3-a155-4e34b11721eb",
   "metadata": {},
   "outputs": [
    {
     "name": "stdout",
     "output_type": "stream",
     "text": [
      "['eiger500K_single_cam_acquire_period', 'eiger500K_single_cam_acquire_time', 'eiger500K_single_cam_num_images', 'eiger500K_single_beam_center_x', 'eiger500K_single_beam_center_y', 'eiger500K_single_wavelength', 'eiger500K_single_det_distance', 'eiger500K_single_threshold_energy', 'eiger500K_single_photon_energy', 'eiger500K_single_stats1_bgd_width', 'eiger500K_single_stats1_centroid_threshold', 'eiger500K_single_stats1_compute_centroid', 'eiger500K_single_stats1_compute_histogram', 'eiger500K_single_stats1_compute_profiles', 'eiger500K_single_stats1_compute_statistics', 'eiger500K_single_stats1_hist_max', 'eiger500K_single_stats1_hist_min', 'eiger500K_single_stats1_hist_size', 'eiger500K_single_stats1_ts_num_points', 'eiger500K_single_stats2_bgd_width', 'eiger500K_single_stats2_centroid_threshold', 'eiger500K_single_stats2_compute_centroid', 'eiger500K_single_stats2_compute_histogram', 'eiger500K_single_stats2_compute_profiles', 'eiger500K_single_stats2_compute_statistics', 'eiger500K_single_stats2_hist_max', 'eiger500K_single_stats2_hist_min', 'eiger500K_single_stats2_hist_size', 'eiger500K_single_stats2_ts_num_points', 'eiger500K_single_stats3_bgd_width', 'eiger500K_single_stats3_centroid_threshold', 'eiger500K_single_stats3_compute_centroid', 'eiger500K_single_stats3_compute_histogram', 'eiger500K_single_stats3_compute_profiles', 'eiger500K_single_stats3_compute_statistics', 'eiger500K_single_stats3_hist_max', 'eiger500K_single_stats3_hist_min', 'eiger500K_single_stats3_hist_size', 'eiger500K_single_stats3_ts_num_points', 'eiger500K_single_stats4_bgd_width', 'eiger500K_single_stats4_centroid_threshold', 'eiger500K_single_stats4_compute_centroid', 'eiger500K_single_stats4_compute_histogram', 'eiger500K_single_stats4_compute_profiles', 'eiger500K_single_stats4_compute_statistics', 'eiger500K_single_stats4_hist_max', 'eiger500K_single_stats4_hist_min', 'eiger500K_single_stats4_hist_size', 'eiger500K_single_stats4_ts_num_points', 'eiger500K_single_stats5_bgd_width', 'eiger500K_single_stats5_centroid_threshold', 'eiger500K_single_stats5_compute_centroid', 'eiger500K_single_stats5_compute_histogram', 'eiger500K_single_stats5_compute_profiles', 'eiger500K_single_stats5_compute_statistics', 'eiger500K_single_stats5_hist_max', 'eiger500K_single_stats5_hist_min', 'eiger500K_single_stats5_hist_size', 'eiger500K_single_stats5_ts_num_points']\n"
     ]
    },
    {
     "data": {
      "text/html": [
       "<div>\n",
       "<style scoped>\n",
       "    .dataframe tbody tr th:only-of-type {\n",
       "        vertical-align: middle;\n",
       "    }\n",
       "\n",
       "    .dataframe tbody tr th {\n",
       "        vertical-align: top;\n",
       "    }\n",
       "\n",
       "    .dataframe thead th {\n",
       "        text-align: right;\n",
       "    }\n",
       "</style>\n",
       "<table border=\"1\" class=\"dataframe\">\n",
       "  <thead>\n",
       "    <tr style=\"text-align: right;\">\n",
       "      <th>time</th>\n",
       "      <th>0</th>\n",
       "    </tr>\n",
       "  </thead>\n",
       "  <tbody>\n",
       "    <tr>\n",
       "      <th>eiger500K_single_cam_acquire_period</th>\n",
       "      <td>0.00012</td>\n",
       "    </tr>\n",
       "    <tr>\n",
       "      <th>eiger500K_single_cam_acquire_time</th>\n",
       "      <td>0.000117</td>\n",
       "    </tr>\n",
       "    <tr>\n",
       "      <th>eiger500K_single_cam_num_images</th>\n",
       "      <td>1000</td>\n",
       "    </tr>\n",
       "    <tr>\n",
       "      <th>eiger500K_single_stats1_compute_centroid</th>\n",
       "      <td>No</td>\n",
       "    </tr>\n",
       "    <tr>\n",
       "      <th>eiger500K_single_stats4_compute_profiles</th>\n",
       "      <td>No</td>\n",
       "    </tr>\n",
       "  </tbody>\n",
       "</table>\n",
       "</div>"
      ],
      "text/plain": [
       "time                                             0\n",
       "eiger500K_single_cam_acquire_period        0.00012\n",
       "eiger500K_single_cam_acquire_time         0.000117\n",
       "eiger500K_single_cam_num_images               1000\n",
       "eiger500K_single_stats1_compute_centroid        No\n",
       "eiger500K_single_stats4_compute_profiles        No"
      ]
     },
     "execution_count": 229,
     "metadata": {},
     "output_type": "execute_result"
    }
   ],
   "source": [
    "# It is easy to convert the data to a Pandas dataframe...\n",
    "config = run['primary/config/eiger500K_single']\n",
    "\n",
    "print(list(config.keys()))\n",
    "\n",
    "interesting_variables = ['eiger500K_single_cam_acquire_period',\n",
    "                         'eiger500K_single_cam_acquire_time',\n",
    "                         'eiger500K_single_cam_num_images',\n",
    "                         'eiger500K_single_stats4_compute_profiles',\n",
    "                        'eiger500K_single_stats1_compute_centroid']\n",
    "ds = config.read(interesting_variables)\n",
    "ds.to_pandas().T"
   ]
  },
  {
   "cell_type": "code",
   "execution_count": 239,
   "id": "4cbca673-5504-4abf-9b9a-d275767d738b",
   "metadata": {},
   "outputs": [
    {
     "name": "stdout",
     "output_type": "stream",
     "text": [
      "<xarray.Dataset> Size: 3MB\n",
      "Dimensions:              (time: 1, dim_0: 514, dim_1: 1030, dim_2: 514,\n",
      "                          dim_3: 1030)\n",
      "Coordinates:\n",
      "  * time                 (time) float64 8B 1.746e+09\n",
      "Dimensions without coordinates: dim_0, dim_1, dim_2, dim_3\n",
      "Data variables:\n",
      "    y_pixel_size         (time) float64 8B 7.5e-05\n",
      "    x_pixel_size         (time) float64 8B 7.5e-05\n",
      "    detector_distance    (time) float64 8B 16.07\n",
      "    incident_wavelength  (time) float64 8B 0.8265\n",
      "    frame_time           (time) float64 8B 0.00012\n",
      "    beam_center_x        (time) float64 8B 509.0\n",
      "    beam_center_y        (time) float64 8B 65.0\n",
      "    count_time           (time) float64 8B 0.000117\n",
      "    pixel_mask           (time, dim_0, dim_1) uint32 2MB 0 0 0 0 0 ... 0 0 0 0 4\n",
      "    binary_mask          (time, dim_2, dim_3) bool 529kB True True ... False\n",
      "Attributes:\n",
      "    stream_name:  eiger500K_single_image_metadata_patched_in_at_runtime\n"
     ]
    },
    {
     "data": {
      "text/plain": [
       "<matplotlib.collections.QuadMesh at 0x15229ec224d0>"
      ]
     },
     "execution_count": 239,
     "metadata": {},
     "output_type": "execute_result"
    },
    {
     "data": {
      "image/png": "[encoded data removed]",
      "text/plain": [
       "<Figure size 640x480 with 2 Axes>"
      ]
     },
     "metadata": {},
     "output_type": "display_data"
    }
   ],
   "source": [
    "# ...or to plot them\n",
    "\n",
    "ds = run[\"eiger500K_single_image_metadata_patched_in_at_runtime/data\"].read()\n",
    "\n",
    "print(ds)\n",
    "ds['pixel_mask'].plot()"
   ]
  },
  {
   "cell_type": "code",
   "execution_count": 11,
   "id": "452dd26e-9e77-436a-abf5-71f0a2e71ef9",
   "metadata": {},
   "outputs": [
    {
     "name": "stdout",
     "output_type": "stream",
     "text": [
      "<ArrayClient shape=(1, 1000, 514, 1030) chunks=((1,), (10, 10, 10, 10, 10, 10, 10, 10, 10, 10, 10, 10, 10, 10, 10, 10, 10, 10, 10, 10, 10, 10, 10, 10, 10, 10, 10, 10, 10, 10, 10, 10, 10, 10, 10, 10, 10, 10, 10, 10, 10, 10, 10, 10, 10, 10, 10, 10, 10, 10, 10, 10, 10, 10, 10, 10, 10, 10, 10, 10, 10, 10, 10, 10, 10, 10, 10, 10, 10, 10, 10, 10, 10, 10, 10, 10, 10, 10, 10, 10, 10, 10, 10, 10, 10, 10, 10, 10, 10, 10, 10, 10, 10, 10, 10, 10, 10, 10, 10, 10), (514,), (1030,)) dtype=uint8 dims=('time', 'dim_0', 'dim_1', 'dim_2')>\n"
     ]
    }
   ],
   "source": [
    "# ...or export (all or parts) of the data in your preferred format\n",
    "import numpy as np\n",
    "img = c[123456]['primary/data/eiger500K_single_image']\n",
    "\n",
    "print(img)   # <- this is still an image client\n",
    "\n",
    "img.export(\"image.png\", slice=np.s_[0, 1, :, 200:700])"
   ]
  },
  {
   "cell_type": "code",
   "execution_count": 251,
   "id": "63742bbe-9af1-4c75-9991-97480e8e06d5",
   "metadata": {},
   "outputs": [
    {
     "data": {
      "text/plain": [
       "{'self': 'https://tiled.nsls2.bnl.gov/api/v1/metadata/chx/raw/92bd4434-94dd-40c2-bb26-5b3359793e0a/primary/data/eiger500K_single_image',\n",
       " 'full': 'https://tiled.nsls2.bnl.gov/api/v1/array/full/chx/raw/92bd4434-94dd-40c2-bb26-5b3359793e0a/primary/data/eiger500K_single_image',\n",
       " 'block': 'https://tiled.nsls2.bnl.gov/api/v1/array/block/chx/raw/92bd4434-94dd-40c2-bb26-5b3359793e0a/primary/data/eiger500K_single_image?block={0},{1},{2},{3}'}"
      ]
     },
     "execution_count": 251,
     "metadata": {},
     "output_type": "execute_result"
    }
   ],
   "source": [
    "# ...or just send someone a link to the data\n",
    "img.item['links']"
   ]
  },
  {
   "cell_type": "markdown",
   "id": "d0bf4b32-052b-4ce3-ba05-db0fa8ce31b7",
   "metadata": {},
   "source": [
    "### Using Dask to Manipulate Large Arrays\n",
    "\n",
    "If an array is too big to fit in memory, one can use a [Dask](https://www.dask.org/)-enabled client that would allow to manipulate, reduce, slice, etc the array before downloading it."
   ]
  },
  {
   "cell_type": "code",
   "execution_count": 186,
   "id": "6b13a5f6-3803-47b3-8687-8a8900e37532",
   "metadata": {},
   "outputs": [
    {
     "name": "stdout",
     "output_type": "stream",
     "text": [
      "<DaskArrayClient shape=(1, 1000, 514, 1030) chunks=((1,), (10, 10, 10, 10, 10, 10, 10, 10, 10, 10, 10, 10, 10, 10, 10, 10, 10, 10, 10, 10, 10, 10, 10, 10, 10, 10, 10, 10, 10, 10, 10, 10, 10, 10, 10, 10, 10, 10, 10, 10, 10, 10, 10, 10, 10, 10, 10, 10, 10, 10, 10, 10, 10, 10, 10, 10, 10, 10, 10, 10, 10, 10, 10, 10, 10, 10, 10, 10, 10, 10, 10, 10, 10, 10, 10, 10, 10, 10, 10, 10, 10, 10, 10, 10, 10, 10, 10, 10, 10, 10, 10, 10, 10, 10, 10, 10, 10, 10, 10, 10), (514,), (1030,)) dtype=uint8 dims=('time', 'dim_0', 'dim_1', 'dim_2')>\n"
     ]
    }
   ],
   "source": [
    "c_dask = from_profile('chx', \"dask\")\n",
    "\n",
    "img_dask = c_dask[123456]['primary/data/eiger500K_single_image']\n",
    "\n",
    "print(img)"
   ]
  },
  {
   "cell_type": "code",
   "execution_count": 187,
   "id": "ed52c237-7a86-485d-b404-1e35260a2717",
   "metadata": {},
   "outputs": [
    {
     "data": {
      "text/html": [
       "<table>\n",
       "    <tr>\n",
       "        <td>\n",
       "            <table style=\"border-collapse: collapse;\">\n",
       "                <thead>\n",
       "                    <tr>\n",
       "                        <td> </td>\n",
       "                        <th> Array </th>\n",
       "                        <th> Chunk </th>\n",
       "                    </tr>\n",
       "                </thead>\n",
       "                <tbody>\n",
       "                    \n",
       "                    <tr>\n",
       "                        <th> Bytes </th>\n",
       "                        <td> 504.89 MiB </td>\n",
       "                        <td> 5.05 MiB </td>\n",
       "                    </tr>\n",
       "                    \n",
       "                    <tr>\n",
       "                        <th> Shape </th>\n",
       "                        <td> (1, 1000, 514, 1030) </td>\n",
       "                        <td> (1, 10, 514, 1030) </td>\n",
       "                    </tr>\n",
       "                    <tr>\n",
       "                        <th> Dask graph </th>\n",
       "                        <td colspan=\"2\"> 100 chunks in 1 graph layer </td>\n",
       "                    </tr>\n",
       "                    <tr>\n",
       "                        <th> Data type </th>\n",
       "                        <td colspan=\"2\"> uint8 numpy.ndarray </td>\n",
       "                    </tr>\n",
       "                </tbody>\n",
       "            </table>\n",
       "        </td>\n",
       "        <td>\n",
       "        <svg width=\"428\" height=\"178\" style=\"stroke:rgb(0,0,0);stroke-width:1\" >\n",
       "\n",
       "  <!-- Horizontal lines -->\n",
       "  <line x1=\"0\" y1=\"0\" x2=\"25\" y2=\"0\" style=\"stroke-width:2\" />\n",
       "  <line x1=\"0\" y1=\"25\" x2=\"25\" y2=\"25\" style=\"stroke-width:2\" />\n",
       "\n",
       "  <!-- Vertical lines -->\n",
       "  <line x1=\"0\" y1=\"0\" x2=\"0\" y2=\"25\" style=\"stroke-width:2\" />\n",
       "  <line x1=\"25\" y1=\"0\" x2=\"25\" y2=\"25\" style=\"stroke-width:2\" />\n",
       "\n",
       "  <!-- Colored Rectangle -->\n",
       "  <polygon points=\"0.0,0.0 25.412616514582485,0.0 25.412616514582485,25.412616514582485 0.0,25.412616514582485\" style=\"fill:#ECB172A0;stroke-width:0\"/>\n",
       "\n",
       "  <!-- Text -->\n",
       "  <text x=\"12.706308\" y=\"45.412617\" font-size=\"1.0rem\" font-weight=\"100\" text-anchor=\"middle\" >1</text>\n",
       "  <text x=\"45.412617\" y=\"12.706308\" font-size=\"1.0rem\" font-weight=\"100\" text-anchor=\"middle\" transform=\"rotate(0,45.412617,12.706308)\">1</text>\n",
       "\n",
       "\n",
       "  <!-- Horizontal lines -->\n",
       "  <line x1=\"95\" y1=\"0\" x2=\"163\" y2=\"68\" style=\"stroke-width:2\" />\n",
       "  <line x1=\"95\" y1=\"59\" x2=\"163\" y2=\"128\" style=\"stroke-width:2\" />\n",
       "\n",
       "  <!-- Vertical lines -->\n",
       "  <line x1=\"95\" y1=\"0\" x2=\"95\" y2=\"59\" style=\"stroke-width:2\" />\n",
       "  <line x1=\"97\" y1=\"2\" x2=\"97\" y2=\"61\" />\n",
       "  <line x1=\"99\" y1=\"4\" x2=\"99\" y2=\"63\" />\n",
       "  <line x1=\"101\" y1=\"6\" x2=\"101\" y2=\"66\" />\n",
       "  <line x1=\"103\" y1=\"8\" x2=\"103\" y2=\"68\" />\n",
       "  <line x1=\"105\" y1=\"10\" x2=\"105\" y2=\"70\" />\n",
       "  <line x1=\"107\" y1=\"12\" x2=\"107\" y2=\"72\" />\n",
       "  <line x1=\"109\" y1=\"14\" x2=\"109\" y2=\"74\" />\n",
       "  <line x1=\"112\" y1=\"17\" x2=\"112\" y2=\"77\" />\n",
       "  <line x1=\"114\" y1=\"19\" x2=\"114\" y2=\"79\" />\n",
       "  <line x1=\"116\" y1=\"21\" x2=\"116\" y2=\"81\" />\n",
       "  <line x1=\"118\" y1=\"23\" x2=\"118\" y2=\"83\" />\n",
       "  <line x1=\"120\" y1=\"25\" x2=\"120\" y2=\"85\" />\n",
       "  <line x1=\"122\" y1=\"27\" x2=\"122\" y2=\"87\" />\n",
       "  <line x1=\"124\" y1=\"29\" x2=\"124\" y2=\"89\" />\n",
       "  <line x1=\"126\" y1=\"31\" x2=\"126\" y2=\"91\" />\n",
       "  <line x1=\"129\" y1=\"34\" x2=\"129\" y2=\"94\" />\n",
       "  <line x1=\"131\" y1=\"36\" x2=\"131\" y2=\"96\" />\n",
       "  <line x1=\"133\" y1=\"38\" x2=\"133\" y2=\"98\" />\n",
       "  <line x1=\"135\" y1=\"40\" x2=\"135\" y2=\"100\" />\n",
       "  <line x1=\"137\" y1=\"42\" x2=\"137\" y2=\"102\" />\n",
       "  <line x1=\"139\" y1=\"44\" x2=\"139\" y2=\"104\" />\n",
       "  <line x1=\"141\" y1=\"46\" x2=\"141\" y2=\"106\" />\n",
       "  <line x1=\"143\" y1=\"48\" x2=\"143\" y2=\"108\" />\n",
       "  <line x1=\"146\" y1=\"51\" x2=\"146\" y2=\"111\" />\n",
       "  <line x1=\"148\" y1=\"53\" x2=\"148\" y2=\"113\" />\n",
       "  <line x1=\"150\" y1=\"55\" x2=\"150\" y2=\"115\" />\n",
       "  <line x1=\"152\" y1=\"57\" x2=\"152\" y2=\"117\" />\n",
       "  <line x1=\"154\" y1=\"59\" x2=\"154\" y2=\"119\" />\n",
       "  <line x1=\"156\" y1=\"61\" x2=\"156\" y2=\"121\" />\n",
       "  <line x1=\"158\" y1=\"63\" x2=\"158\" y2=\"123\" />\n",
       "  <line x1=\"160\" y1=\"65\" x2=\"160\" y2=\"125\" />\n",
       "  <line x1=\"163\" y1=\"68\" x2=\"163\" y2=\"128\" style=\"stroke-width:2\" />\n",
       "\n",
       "  <!-- Colored Rectangle -->\n",
       "  <polygon points=\"95.0,0.0 163.53226727584237,68.53226727584237 163.53226727584237,128.41576242147343 95.0,59.883495145631066\" style=\"fill:#8B4903A0;stroke-width:0\"/>\n",
       "\n",
       "  <!-- Horizontal lines -->\n",
       "  <line x1=\"95\" y1=\"0\" x2=\"215\" y2=\"0\" style=\"stroke-width:2\" />\n",
       "  <line x1=\"97\" y1=\"2\" x2=\"217\" y2=\"2\" />\n",
       "  <line x1=\"99\" y1=\"4\" x2=\"219\" y2=\"4\" />\n",
       "  <line x1=\"101\" y1=\"6\" x2=\"221\" y2=\"6\" />\n",
       "  <line x1=\"103\" y1=\"8\" x2=\"223\" y2=\"8\" />\n",
       "  <line x1=\"105\" y1=\"10\" x2=\"225\" y2=\"10\" />\n",
       "  <line x1=\"107\" y1=\"12\" x2=\"227\" y2=\"12\" />\n",
       "  <line x1=\"109\" y1=\"14\" x2=\"229\" y2=\"14\" />\n",
       "  <line x1=\"112\" y1=\"17\" x2=\"232\" y2=\"17\" />\n",
       "  <line x1=\"114\" y1=\"19\" x2=\"234\" y2=\"19\" />\n",
       "  <line x1=\"116\" y1=\"21\" x2=\"236\" y2=\"21\" />\n",
       "  <line x1=\"118\" y1=\"23\" x2=\"238\" y2=\"23\" />\n",
       "  <line x1=\"120\" y1=\"25\" x2=\"240\" y2=\"25\" />\n",
       "  <line x1=\"122\" y1=\"27\" x2=\"242\" y2=\"27\" />\n",
       "  <line x1=\"124\" y1=\"29\" x2=\"244\" y2=\"29\" />\n",
       "  <line x1=\"126\" y1=\"31\" x2=\"246\" y2=\"31\" />\n",
       "  <line x1=\"129\" y1=\"34\" x2=\"249\" y2=\"34\" />\n",
       "  <line x1=\"131\" y1=\"36\" x2=\"251\" y2=\"36\" />\n",
       "  <line x1=\"133\" y1=\"38\" x2=\"253\" y2=\"38\" />\n",
       "  <line x1=\"135\" y1=\"40\" x2=\"255\" y2=\"40\" />\n",
       "  <line x1=\"137\" y1=\"42\" x2=\"257\" y2=\"42\" />\n",
       "  <line x1=\"139\" y1=\"44\" x2=\"259\" y2=\"44\" />\n",
       "  <line x1=\"141\" y1=\"46\" x2=\"261\" y2=\"46\" />\n",
       "  <line x1=\"143\" y1=\"48\" x2=\"263\" y2=\"48\" />\n",
       "  <line x1=\"146\" y1=\"51\" x2=\"266\" y2=\"51\" />\n",
       "  <line x1=\"148\" y1=\"53\" x2=\"268\" y2=\"53\" />\n",
       "  <line x1=\"150\" y1=\"55\" x2=\"270\" y2=\"55\" />\n",
       "  <line x1=\"152\" y1=\"57\" x2=\"272\" y2=\"57\" />\n",
       "  <line x1=\"154\" y1=\"59\" x2=\"274\" y2=\"59\" />\n",
       "  <line x1=\"156\" y1=\"61\" x2=\"276\" y2=\"61\" />\n",
       "  <line x1=\"158\" y1=\"63\" x2=\"278\" y2=\"63\" />\n",
       "  <line x1=\"160\" y1=\"65\" x2=\"280\" y2=\"65\" />\n",
       "  <line x1=\"163\" y1=\"68\" x2=\"283\" y2=\"68\" style=\"stroke-width:2\" />\n",
       "\n",
       "  <!-- Vertical lines -->\n",
       "  <line x1=\"95\" y1=\"0\" x2=\"163\" y2=\"68\" style=\"stroke-width:2\" />\n",
       "  <line x1=\"215\" y1=\"0\" x2=\"283\" y2=\"68\" style=\"stroke-width:2\" />\n",
       "\n",
       "  <!-- Colored Rectangle -->\n",
       "  <polygon points=\"95.0,0.0 215.0,0.0 283.5322672758424,68.53226727584237 163.53226727584237,68.53226727584237\" style=\"fill:#8B4903A0;stroke-width:0\"/>\n",
       "\n",
       "  <!-- Horizontal lines -->\n",
       "  <line x1=\"163\" y1=\"68\" x2=\"283\" y2=\"68\" style=\"stroke-width:2\" />\n",
       "  <line x1=\"163\" y1=\"128\" x2=\"283\" y2=\"128\" style=\"stroke-width:2\" />\n",
       "\n",
       "  <!-- Vertical lines -->\n",
       "  <line x1=\"163\" y1=\"68\" x2=\"163\" y2=\"128\" style=\"stroke-width:2\" />\n",
       "  <line x1=\"283\" y1=\"68\" x2=\"283\" y2=\"128\" style=\"stroke-width:2\" />\n",
       "\n",
       "  <!-- Colored Rectangle -->\n",
       "  <polygon points=\"163.53226727584237,68.53226727584237 283.5322672758424,68.53226727584237 283.5322672758424,128.41576242147343 163.53226727584237,128.41576242147343\" style=\"fill:#ECB172A0;stroke-width:0\"/>\n",
       "\n",
       "  <!-- Text -->\n",
       "  <text x=\"223.532267\" y=\"148.415762\" font-size=\"1.0rem\" font-weight=\"100\" text-anchor=\"middle\" >1030</text>\n",
       "  <text x=\"303.532267\" y=\"98.474015\" font-size=\"1.0rem\" font-weight=\"100\" text-anchor=\"middle\" transform=\"rotate(-90,303.532267,98.474015)\">514</text>\n",
       "  <text x=\"119.266134\" y=\"114.149629\" font-size=\"1.0rem\" font-weight=\"100\" text-anchor=\"middle\" transform=\"rotate(45,119.266134,114.149629)\">1000</text>\n",
       "</svg>\n",
       "        </td>\n",
       "    </tr>\n",
       "</table>"
      ],
      "text/plain": [
       "dask.array<remote-dask-array-https://tiled.nsls2.bnl.gov/api/v1/metadata/chx/raw/92bd4434-94dd-40c2-bb26, shape=(1, 1000, 514, 1030), dtype=uint8, chunksize=(1, 10, 514, 1030), chunktype=numpy.ndarray>"
      ]
     },
     "execution_count": 187,
     "metadata": {},
     "output_type": "execute_result"
    }
   ],
   "source": [
    "img.read()"
   ]
  },
  {
   "cell_type": "code",
   "execution_count": 189,
   "id": "1fa6fab4-5d1f-4a9f-85f9-1a3821670e96",
   "metadata": {},
   "outputs": [
    {
     "data": {
      "text/plain": [
       "22666"
      ]
     },
     "execution_count": 189,
     "metadata": {},
     "output_type": "execute_result"
    }
   ],
   "source": [
    "img_dask[0,:5,...].sum().compute()"
   ]
  },
  {
   "cell_type": "markdown",
   "id": "9003038e-369c-4637-8043-1a3fcb4ece93",
   "metadata": {},
   "source": [
    "### Search over Metadata\n",
    "\n",
    "Tiled supports search over the entire catalog of Bluesky Run based on the metadata received in the `Start` documents.\n",
    "\n",
    "Learn more:\n",
    "* https://blueskyproject.io/tiled/tutorials/search.html\n",
    "* https://blueskyproject.io/tiled/reference/queries.html"
   ]
  },
  {
   "cell_type": "code",
   "execution_count": null,
   "id": "90a57062-a7eb-4143-916b-2eef2ebbf007",
   "metadata": {
    "scrolled": true
   },
   "outputs": [],
   "source": [
    "run.metadata"
   ]
  },
  {
   "cell_type": "code",
   "execution_count": 263,
   "id": "2e6af266-67b3-4c70-9fd0-7d97780c0a48",
   "metadata": {},
   "outputs": [],
   "source": [
    "from tiled.queries import Contains, Key, Eq, FullText, NotEq, Like"
   ]
  },
  {
   "cell_type": "code",
   "execution_count": 258,
   "id": "d810443d-dcb5-4023-93f2-605de07dd0aa",
   "metadata": {},
   "outputs": [
    {
     "data": {
      "text/plain": [
       "<Catalog {144762, 144763, 144764, 144765, 144766, 144767, ...} ~14762 entries>"
      ]
     },
     "execution_count": 258,
     "metadata": {},
     "output_type": "execute_result"
    }
   ],
   "source": [
    "c.search(Eq('auto_pipeline', 'XPCS_SAXS_auto'))"
   ]
  },
  {
   "cell_type": "code",
   "execution_count": 257,
   "id": "59601cb8-c046-4b98-b5f5-03021f66040f",
   "metadata": {},
   "outputs": [
    {
     "data": {
      "text/plain": [
       "<Catalog {123154, 123155, 123156, 123157, 123158, 123159, ...} ~4061 entries>"
      ]
     },
     "execution_count": 257,
     "metadata": {},
     "output_type": "execute_result"
    }
   ],
   "source": [
    "c.search(Key('sample') == 'La4A_2')"
   ]
  },
  {
   "cell_type": "code",
   "execution_count": 264,
   "id": "2ae2258e-9866-4ee5-8c19-8849c9ca0d5d",
   "metadata": {},
   "outputs": [
    {
     "data": {
      "text/plain": [
       "<Catalog {5, 6, 7, 8, 9, 10, 11, 12, 13, 14, ...} ~249327 entries>"
      ]
     },
     "execution_count": 264,
     "metadata": {},
     "output_type": "execute_result"
    }
   ],
   "source": [
    "c.search(NotEq('plan_args.detectors', 'EigerSingleTrigger_AD37_V2') )"
   ]
  },
  {
   "cell_type": "code",
   "execution_count": null,
   "id": "ae52e5fe-2147-400e-85b3-c51c5842c1fe",
   "metadata": {},
   "outputs": [],
   "source": []
  }
 ],
 "metadata": {
  "kernelspec": {
   "display_name": "Python 3 (current)",
   "language": "python",
   "name": "python3"
  },
  "language_info": {
   "codemirror_mode": {
    "name": "ipython",
    "version": 3
   },
   "file_extension": ".py",
   "mimetype": "text/x-python",
   "name": "python",
   "nbconvert_exporter": "python",
   "pygments_lexer": "ipython3",
   "version": "3.11.6"
  }
 },
 "nbformat": 4,
 "nbformat_minor": 5
}
