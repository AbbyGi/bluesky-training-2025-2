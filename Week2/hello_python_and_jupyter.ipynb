{
 "cells": [
  {
   "cell_type": "markdown",
   "metadata": {},
   "source": [
    "# Hello Python and Jupyter\n",
    "\n",
    "In this notebook you will:\n",
    "\n",
    "* Learn how to use a Jupyter notebook such as this one\n",
    "* Get a very quick tour of Python syntax and scientific libraries\n",
    "* Learn some IPython features that we will use in later tutorials"
   ]
  },
  {
   "cell_type": "markdown",
   "metadata": {},
   "source": [
    "## What is this?\n",
    "\n",
    "This is Jupyter notebook running in a personal \"container\" just for you, stocked with example data, demos, and tutorials that you can run and modify. All of the software you'll need is already installed and ready to use."
   ]
  },
  {
   "cell_type": "markdown",
   "metadata": {},
   "source": [
    "## Run some Python code!\n",
    "\n",
    "To run the code below:\n",
    "\n",
    "1. Click on the cell to select it.\n",
    "2. Press `SHIFT+ENTER` on your keyboard or press the <button class='btn btn-default'><span class='fa fa-step-forward'></span > Run</button> button in the toolbar above (in the toolbar above!)."
   ]
  },
  {
   "cell_type": "code",
   "execution_count": 1,
   "metadata": {},
   "outputs": [
    {
     "data": {
      "text/plain": [
       "2"
      ]
     },
     "execution_count": 1,
     "metadata": {},
     "output_type": "execute_result"
    }
   ],
   "source": [
    "1 + 1"
   ]
  },
  {
   "cell_type": "markdown",
   "metadata": {},
   "source": [
    "Notice that you can edit a cell and re-run it."
   ]
  },
  {
   "cell_type": "markdown",
   "metadata": {},
   "source": [
    "The notebook document mixes executable code and narrative content. It supports text, links, embedded videos, and even typeset math: $\\int_{-\\infty}^\\infty x\\, d x = \\frac{x^2}{2}$"
   ]
  },
  {
   "cell_type": "markdown",
   "metadata": {},
   "source": [
    "## Whirlwind Tour of Python Syntax\n",
    "\n",
    "### Lists"
   ]
  },
  {
   "cell_type": "markdown",
   "metadata": {},
   "source": [
    "The cell below defines a list called stuff with 4 elements. Python does not require lists to be of the same type.\n",
    "\n",
    "#### Exercise:\n",
    "* Adding more elements to the list (append, extend, insert, +)\n",
    "* Try printing elements of the list using slices"
   ]
  },
  {
   "cell_type": "code",
   "execution_count": 2,
   "metadata": {},
   "outputs": [],
   "source": [
    "stuff = [4, 'a', 8.3, True]"
   ]
  },
  {
   "cell_type": "markdown",
   "metadata": {},
   "source": [
    "To index the first element use [0]. The final element can be indexed by [-1]"
   ]
  },
  {
   "cell_type": "code",
   "execution_count": 3,
   "metadata": {},
   "outputs": [
    {
     "data": {
      "text/plain": [
       "4"
      ]
     },
     "execution_count": 3,
     "metadata": {},
     "output_type": "execute_result"
    }
   ],
   "source": [
    "stuff[0]  # the first element"
   ]
  },
  {
   "cell_type": "code",
   "execution_count": 4,
   "metadata": {},
   "outputs": [
    {
     "data": {
      "text/plain": [
       "True"
      ]
     },
     "execution_count": 4,
     "metadata": {},
     "output_type": "execute_result"
    }
   ],
   "source": [
    "stuff[-1]  # the last element"
   ]
  },
  {
   "cell_type": "markdown",
   "metadata": {},
   "source": [
    "### Dictionaries (Mappings)\n",
    "Dictonaries are used a lot when using Bluesky. One example is the RE.md dictionary which holds the metadata. The type is a RedisJSONDict.\n",
    "\n",
    "#### Exercise: edit the value of a prexisting key in the dictionary"
   ]
  },
  {
   "cell_type": "code",
   "execution_count": 5,
   "metadata": {},
   "outputs": [],
   "source": [
    "d = {'a': 1, 'b': 2}"
   ]
  },
  {
   "cell_type": "code",
   "execution_count": 6,
   "metadata": {},
   "outputs": [
    {
     "data": {
      "text/plain": [
       "{'a': 1, 'b': 2}"
      ]
     },
     "execution_count": 6,
     "metadata": {},
     "output_type": "execute_result"
    }
   ],
   "source": [
    "d"
   ]
  },
  {
   "cell_type": "code",
   "execution_count": 7,
   "metadata": {},
   "outputs": [
    {
     "data": {
      "text/plain": [
       "2"
      ]
     },
     "execution_count": 7,
     "metadata": {},
     "output_type": "execute_result"
    }
   ],
   "source": [
    "d['b']"
   ]
  },
  {
   "cell_type": "code",
   "execution_count": 8,
   "metadata": {},
   "outputs": [],
   "source": [
    "d['c'] = 3"
   ]
  },
  {
   "cell_type": "code",
   "execution_count": 9,
   "metadata": {},
   "outputs": [
    {
     "data": {
      "text/plain": [
       "{'a': 1, 'b': 2, 'c': 3}"
      ]
     },
     "execution_count": 9,
     "metadata": {},
     "output_type": "execute_result"
    }
   ],
   "source": [
    "d"
   ]
  },
  {
   "cell_type": "markdown",
   "metadata": {},
   "source": [
    "**TIP:** For large or nested dictionaries, it is more convient to use `list()`.  Often custom python objects can be interrogated in the same manner."
   ]
  },
  {
   "cell_type": "code",
   "execution_count": 10,
   "metadata": {},
   "outputs": [
    {
     "data": {
      "text/plain": [
       "['a', 'b', 'c']"
      ]
     },
     "execution_count": 10,
     "metadata": {},
     "output_type": "execute_result"
    }
   ],
   "source": [
    "list(d)"
   ]
  },
  {
   "cell_type": "markdown",
   "metadata": {},
   "source": [
    "Using a for loop also provides a clear display for the keys and values in the dictionary."
   ]
  },
  {
   "cell_type": "code",
   "execution_count": 11,
   "metadata": {},
   "outputs": [
    {
     "name": "stdout",
     "output_type": "stream",
     "text": [
      "a: 1\n",
      "b: 2\n",
      "c: 3\n"
     ]
    }
   ],
   "source": [
    "for key, value in d.items():\n",
    "    print(f\"{key}: {value}\")"
   ]
  },
  {
   "cell_type": "markdown",
   "metadata": {},
   "source": [
    "### Functions\n",
    "\n",
    "#### Exercise:\n",
    "* run the following 2 cells and see the output of `f?`\n",
    "* add a doc string to the function `f`, a doc string is started with `\"\"\"`\n",
    "* re run the two cells and see what changes"
   ]
  },
  {
   "cell_type": "code",
   "execution_count": null,
   "metadata": {},
   "outputs": [],
   "source": [
    "def f(a, b):\n",
    "    \"\"\"_summary_\n",
    "\n",
    "    Args:\n",
    "        a (int): _description_\n",
    "        b (int): _description_\n",
    "\n",
    "    Returns:\n",
    "        _type_: _description_\n",
    "    \"\"\"\n",
    "    return a + b"
   ]
  },
  {
   "cell_type": "markdown",
   "metadata": {},
   "source": [
    "In IPython `f?` or `?f` display information about `f`, such as its arguments."
   ]
  },
  {
   "cell_type": "code",
   "execution_count": 13,
   "metadata": {},
   "outputs": [
    {
     "name": "stdout",
     "output_type": "stream",
     "text": [
      "\u001b[31mSignature:\u001b[39m f(a, b)\n",
      "\u001b[31mDocstring:\u001b[39m <no docstring>\n",
      "\u001b[31mFile:\u001b[39m      /var/folders/yn/ngdxsm453m3g9t3srb4x3m280000gp/T/ipykernel_97762/1199521597.py\n",
      "\u001b[31mType:\u001b[39m      function"
     ]
    }
   ],
   "source": [
    "f?"
   ]
  },
  {
   "cell_type": "markdown",
   "metadata": {},
   "source": [
    "If the function includes inline documentation (a \"doc string\") then `?` displays that as well."
   ]
  },
  {
   "cell_type": "code",
   "execution_count": 14,
   "metadata": {},
   "outputs": [
    {
     "name": "stdout",
     "output_type": "stream",
     "text": [
      "\u001b[31mSignature:\u001b[39m f(a, b)\n",
      "\u001b[31mDocstring:\u001b[39m <no docstring>\n",
      "\u001b[31mSource:\u001b[39m   \n",
      "\u001b[38;5;28;01mdef\u001b[39;00m f(a, b):\n",
      "    \u001b[38;5;28;01mreturn\u001b[39;00m a + b\n",
      "\u001b[31mFile:\u001b[39m      /var/folders/yn/ngdxsm453m3g9t3srb4x3m280000gp/T/ipykernel_97762/1199521597.py\n",
      "\u001b[31mType:\u001b[39m      function"
     ]
    }
   ],
   "source": [
    "f??"
   ]
  },
  {
   "cell_type": "markdown",
   "metadata": {},
   "source": [
    "Arguments can have default values."
   ]
  },
  {
   "cell_type": "code",
   "execution_count": 15,
   "metadata": {},
   "outputs": [],
   "source": [
    "def f(a, b, c=1):\n",
    "    return (a + b) * c"
   ]
  },
  {
   "cell_type": "code",
   "execution_count": 16,
   "metadata": {},
   "outputs": [
    {
     "data": {
      "text/plain": [
       "3"
      ]
     },
     "execution_count": 16,
     "metadata": {},
     "output_type": "execute_result"
    }
   ],
   "source": [
    "f(1, 2)"
   ]
  },
  {
   "cell_type": "code",
   "execution_count": 17,
   "metadata": {},
   "outputs": [
    {
     "data": {
      "text/plain": [
       "9"
      ]
     },
     "execution_count": 17,
     "metadata": {},
     "output_type": "execute_result"
    }
   ],
   "source": [
    "f(1, 2, 3)"
   ]
  },
  {
   "cell_type": "markdown",
   "metadata": {},
   "source": [
    "Any argument can be passed by keyword. This is slower to type but clearer to read later."
   ]
  },
  {
   "cell_type": "code",
   "execution_count": 18,
   "metadata": {},
   "outputs": [
    {
     "data": {
      "text/plain": [
       "9"
      ]
     },
     "execution_count": 18,
     "metadata": {},
     "output_type": "execute_result"
    }
   ],
   "source": [
    "f(a=1, b=2, c=3)"
   ]
  },
  {
   "cell_type": "markdown",
   "metadata": {},
   "source": [
    "If using keywords, you don't have to remember the argument order."
   ]
  },
  {
   "cell_type": "code",
   "execution_count": 19,
   "metadata": {},
   "outputs": [
    {
     "data": {
      "text/plain": [
       "9"
      ]
     },
     "execution_count": 19,
     "metadata": {},
     "output_type": "execute_result"
    }
   ],
   "source": [
    "f(c=3, a=1, b=2)"
   ]
  },
  {
   "cell_type": "markdown",
   "metadata": {},
   "source": [
    "## Classes\n",
    "Classes will be used for Ophyd objects. The class is the blueprint for the object. It holds data and defines functions. This improves reusability and readability."
   ]
  },
  {
   "cell_type": "code",
   "execution_count": null,
   "metadata": {},
   "outputs": [],
   "source": [
    "class Det:\n",
    "    def __init__(self, name, det_type):\n",
    "        self.name = name\n",
    "        self.det_type = det_type\n",
    "\n",
    "    def __repr__(self):\n",
    "        return f\"Det({self.name}, {self.det_type})\"\n",
    "    \n",
    "    def get_name(self):\n",
    "        return self.name\n",
    "    \n",
    "    def get_type(self): \n",
    "        return self.det_type"
   ]
  },
  {
   "cell_type": "code",
   "execution_count": 21,
   "metadata": {},
   "outputs": [],
   "source": [
    "my_det = Det('P800K', 'pilatus')"
   ]
  },
  {
   "cell_type": "code",
   "execution_count": 22,
   "metadata": {},
   "outputs": [
    {
     "data": {
      "text/plain": [
       "'Det(P800K, pilatus)'"
      ]
     },
     "execution_count": 22,
     "metadata": {},
     "output_type": "execute_result"
    }
   ],
   "source": [
    "my_det.__repr__()"
   ]
  },
  {
   "cell_type": "code",
   "execution_count": 23,
   "metadata": {},
   "outputs": [
    {
     "data": {
      "text/plain": [
       "'P800K'"
      ]
     },
     "execution_count": 23,
     "metadata": {},
     "output_type": "execute_result"
    }
   ],
   "source": [
    "my_det.get_name()"
   ]
  },
  {
   "cell_type": "code",
   "execution_count": 24,
   "metadata": {},
   "outputs": [
    {
     "data": {
      "text/plain": [
       "'pilatus'"
      ]
     },
     "execution_count": 24,
     "metadata": {},
     "output_type": "execute_result"
    }
   ],
   "source": [
    "my_det.get_type()"
   ]
  },
  {
   "cell_type": "markdown",
   "metadata": {},
   "source": [
    "## Fast numerical computation using numpy\n",
    "\n",
    "For numerical computing, a numpy array is more useful and performant than a plain list."
   ]
  },
  {
   "cell_type": "code",
   "execution_count": 25,
   "metadata": {},
   "outputs": [],
   "source": [
    "import numpy as np\n",
    "\n",
    "a = np.array([1, 2, 3, 4])"
   ]
  },
  {
   "cell_type": "code",
   "execution_count": 26,
   "metadata": {},
   "outputs": [
    {
     "data": {
      "text/plain": [
       "array([1, 2, 3, 4])"
      ]
     },
     "execution_count": 26,
     "metadata": {},
     "output_type": "execute_result"
    }
   ],
   "source": [
    "a"
   ]
  },
  {
   "cell_type": "code",
   "execution_count": 27,
   "metadata": {},
   "outputs": [
    {
     "data": {
      "text/plain": [
       "np.float64(2.5)"
      ]
     },
     "execution_count": 27,
     "metadata": {},
     "output_type": "execute_result"
    }
   ],
   "source": [
    "np.mean(a)"
   ]
  },
  {
   "cell_type": "code",
   "execution_count": 28,
   "metadata": {},
   "outputs": [
    {
     "data": {
      "text/plain": [
       "array([ 0.84147098,  0.90929743,  0.14112001, -0.7568025 ])"
      ]
     },
     "execution_count": 28,
     "metadata": {},
     "output_type": "execute_result"
    }
   ],
   "source": [
    "np.sin(a)"
   ]
  },
  {
   "cell_type": "markdown",
   "metadata": {},
   "source": [
    "We'll use the IPython `%%timeit` magic to measure the speed difference between built-in Python lists and numpy arrays."
   ]
  },
  {
   "cell_type": "code",
   "execution_count": 29,
   "metadata": {},
   "outputs": [
    {
     "name": "stdout",
     "output_type": "stream",
     "text": [
      "75.5 μs ± 304 ns per loop (mean ± std. dev. of 7 runs, 10,000 loops each)\n"
     ]
    }
   ],
   "source": [
    "%%timeit\n",
    "\n",
    "big = list(range(10000))  # setup line, not timed\n",
    "sum(big)  # timed"
   ]
  },
  {
   "cell_type": "code",
   "execution_count": 30,
   "metadata": {},
   "outputs": [
    {
     "name": "stdout",
     "output_type": "stream",
     "text": [
      "3.87 μs ± 18.2 ns per loop (mean ± std. dev. of 7 runs, 100,000 loops each)\n"
     ]
    }
   ],
   "source": [
    "%%timeit\n",
    "\n",
    "big = np.arange(10000)  # setup line, not timed\n",
    "np.sum(big)  # timed"
   ]
  },
  {
   "cell_type": "markdown",
   "metadata": {},
   "source": [
    "If a single loops is desired for a longer computation, use `%time` on the desired line."
   ]
  },
  {
   "cell_type": "code",
   "execution_count": 31,
   "metadata": {},
   "outputs": [
    {
     "name": "stdout",
     "output_type": "stream",
     "text": [
      "CPU times: user 13 μs, sys: 1 μs, total: 14 μs\n",
      "Wall time: 14.8 μs\n"
     ]
    },
    {
     "data": {
      "text/plain": [
       "np.int64(49995000)"
      ]
     },
     "execution_count": 31,
     "metadata": {},
     "output_type": "execute_result"
    }
   ],
   "source": [
    "big = np.arange(10000)  # setup line, not timed\n",
    "%time np.sum(big)  # timed"
   ]
  },
  {
   "cell_type": "markdown",
   "metadata": {},
   "source": [
    "## Plotting using matplotlib\n",
    "\n",
    "In an interactive setting, this will show a canvas that we can pan and zoom. (Keep reading for what we can do in a non-interactive setting, such as the static web page version of this tutorial.)"
   ]
  },
  {
   "cell_type": "code",
   "execution_count": 1,
   "metadata": {},
   "outputs": [
    {
     "data": {
      "text/plain": [
       "<Figure size 640x480 with 0 Axes>"
      ]
     },
     "execution_count": 1,
     "metadata": {},
     "output_type": "execute_result"
    },
    {
     "data": {
      "application/vnd.jupyter.widget-view+json": {
       "model_id": "4df56d6ab79d4146a4aa5fe2bc8f91e5",
       "version_major": 2,
       "version_minor": 0
      },
      "image/png": "[encoded data removed]",
      "text/html": [
       "\n",
       "            <div style=\"display: inline-block;\">\n",
       "                <div class=\"jupyter-widgets widget-label\" style=\"text-align: center;\">\n",
       "                    Figure\n",
       "                </div>\n",
       "                <img src='data:image/png;base64,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' width=640.0/>\n",
       "            </div>\n",
       "        "
      ],
      "text/plain": [
       "Canvas(toolbar=Toolbar(toolitems=[('Home', 'Reset original view', 'home', 'home'), ('Back', 'Back to previous …"
      ]
     },
     "metadata": {},
     "output_type": "display_data"
    }
   ],
   "source": [
    "# We just have to do this line once, before we do any plotting.\n",
    "%matplotlib widget\n",
    "import matplotlib.pyplot as plt\n",
    "\n",
    "plt.figure()"
   ]
  },
  {
   "cell_type": "markdown",
   "metadata": {},
   "source": [
    "We can plot some data like so. In an interactive setting, this will update the canvas above."
   ]
  },
  {
   "cell_type": "code",
   "execution_count": 2,
   "metadata": {},
   "outputs": [
    {
     "data": {
      "text/plain": [
       "[<matplotlib.lines.Line2D at 0x118590790>]"
      ]
     },
     "execution_count": 2,
     "metadata": {},
     "output_type": "execute_result"
    }
   ],
   "source": [
    "plt.plot([1, 1, 2, 3, 5, 8])"
   ]
  },
  {
   "cell_type": "code",
   "execution_count": 3,
   "metadata": {},
   "outputs": [
    {
     "data": {
      "text/plain": [
       "[<matplotlib.lines.Line2D at 0x11884ca10>]"
      ]
     },
     "execution_count": 3,
     "metadata": {},
     "output_type": "execute_result"
    }
   ],
   "source": [
    "new_list = [1, 1, 2, 3, 5, 8]\n",
    "b = new_list[::-1]\n",
    "plt.plot(b)"
   ]
  },
  {
   "cell_type": "markdown",
   "metadata": {},
   "source": [
    "And we can show a noninteractive snapshot of the state of the figure at this point by display the figure itself."
   ]
  },
  {
   "cell_type": "code",
   "execution_count": 34,
   "metadata": {},
   "outputs": [
    {
     "data": {
      "image/png": "[encoded data removed]",
      "text/plain": [
       "<Figure size 640x480 with 1 Axes>"
      ]
     },
     "execution_count": 34,
     "metadata": {},
     "output_type": "execute_result"
    }
   ],
   "source": [
    "plt.gcf()"
   ]
  },
  {
   "cell_type": "markdown",
   "metadata": {},
   "source": [
    "Displaying `plt.gcf()` (or any `Figure`) shows a non-interactive snapshot of a figure. Displaying `plt.gcf().canvas` or any `Canvas` gives us another interactive, live-updating view of the figure."
   ]
  },
  {
   "cell_type": "markdown",
   "metadata": {},
   "source": [
    "## Interrupting the IPython Kernel\n",
    "\n",
    "Run this cell, and then click the square 'stop' button in the notebook toolbar to interrupt the infinite loop.\n",
    "\n",
    "(This is equivalent to Ctrl+C in a terminal.)"
   ]
  },
  {
   "cell_type": "code",
   "execution_count": 35,
   "metadata": {},
   "outputs": [],
   "source": [
    "# This runs forever -- hit the square 'stop' button in Jupyter to interrupt\n",
    "# The following is \"commented out\". Un-comment the lines below to run them.\n",
    "# while True:\n",
    "#     continue"
   ]
  },
  {
   "cell_type": "markdown",
   "metadata": {},
   "source": [
    "## \"Magics\""
   ]
  },
  {
   "cell_type": "markdown",
   "metadata": {},
   "source": [
    "The code entered here is interpreted by _IPython_, which extends Python by adding some conveniences that help you make the most out of using Python interactively. It was originally created by a physicist, Fernando Perez.\n",
    "\n",
    "\"Magics\" are special IPython syntax. They are not part of the Python language, and they should not be used in scripts or libraries; they are meant for interactive use.\n",
    "\n",
    "The `%run` magic executes a Python script."
   ]
  },
  {
   "cell_type": "code",
   "execution_count": 5,
   "metadata": {},
   "outputs": [
    {
     "name": "stdout",
     "output_type": "stream",
     "text": [
      "hello world\n"
     ]
    },
    {
     "data": {
      "application/vnd.jupyter.widget-view+json": {
       "model_id": "4df56d6ab79d4146a4aa5fe2bc8f91e5",
       "version_major": 2,
       "version_minor": 0
      },
      "image/png": "[encoded data removed]",
      "text/html": [
       "\n",
       "            <div style=\"display: inline-block;\">\n",
       "                <div class=\"jupyter-widgets widget-label\" style=\"text-align: center;\">\n",
       "                    Figure 1\n",
       "                </div>\n",
       "                <img src='data:image/png;base64,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' width=640.0/>\n",
       "            </div>\n",
       "        "
      ],
      "text/plain": [
       "Canvas(toolbar=Toolbar(toolitems=[('Home', 'Reset original view', 'home', 'home'), ('Back', 'Back to previous …"
      ]
     },
     "metadata": {},
     "output_type": "display_data"
    }
   ],
   "source": [
    "%run hello_world.py"
   ]
  },
  {
   "cell_type": "markdown",
   "metadata": {},
   "source": [
    "When the script completes, any variables defined in that script will be dumepd into our namespace. For example (as we will see below), this script happens to define a variable named `message`. Now that we have `%run` the script, `message` is in our namespace."
   ]
  },
  {
   "cell_type": "code",
   "execution_count": 6,
   "metadata": {},
   "outputs": [
    {
     "data": {
      "text/plain": [
       "'hello world'"
      ]
     },
     "execution_count": 6,
     "metadata": {},
     "output_type": "execute_result"
    }
   ],
   "source": [
    "message"
   ]
  },
  {
   "cell_type": "markdown",
   "metadata": {},
   "source": [
    "This behavior can be confusing, in the sense that the reader has to do some digging to figure out where ``message`` was defined and what it is, but it has its uses. Throughout this tutorial, we will use the `%run` magic as a shorthand for running boilerplate configuration code and defining variables representing hardware."
   ]
  },
  {
   "cell_type": "markdown",
   "metadata": {},
   "source": [
    "The `%load` magic copies the contents of a file into a cell but does not run it."
   ]
  },
  {
   "cell_type": "code",
   "execution_count": 9,
   "metadata": {},
   "outputs": [
    {
     "name": "stdout",
     "output_type": "stream",
     "text": [
      "hello world\n"
     ]
    }
   ],
   "source": [
    "# %load hello_world.py\n",
    "message = 'hello world'\n",
    "print(message)\n"
   ]
  },
  {
   "cell_type": "markdown",
   "metadata": {},
   "source": [
    "If you get an error, `%debug` is a useful tool"
   ]
  },
  {
   "cell_type": "code",
   "execution_count": 39,
   "metadata": {},
   "outputs": [
    {
     "ename": "TypeError",
     "evalue": "f() got an unexpected keyword argument 'd'",
     "output_type": "error",
     "traceback": [
      "\u001b[31m---------------------------------------------------------------------------\u001b[39m",
      "\u001b[31mTypeError\u001b[39m                                 Traceback (most recent call last)",
      "\u001b[36mCell\u001b[39m\u001b[36m \u001b[39m\u001b[32mIn[39]\u001b[39m\u001b[32m, line 1\u001b[39m\n\u001b[32m----> \u001b[39m\u001b[32m1\u001b[39m f(a=\u001b[32m1\u001b[39m, b=\u001b[32m2\u001b[39m, c=\u001b[32m3\u001b[39m, d=\u001b[32m4\u001b[39m)\n",
      "\u001b[31mTypeError\u001b[39m: f() got an unexpected keyword argument 'd'"
     ]
    }
   ],
   "source": [
    "f(a=1, b=2, c=3, d=4)"
   ]
  },
  {
   "cell_type": "code",
   "execution_count": null,
   "metadata": {},
   "outputs": [],
   "source": [
    "# %debug"
   ]
  },
  {
   "cell_type": "markdown",
   "metadata": {},
   "source": [
    "Execute the cell a second time to actually run the code. Throughout this tutorial, we use the `%load` magic to load solutions to exercises."
   ]
  },
  {
   "cell_type": "markdown",
   "metadata": {},
   "source": [
    "## System Shell Access\n",
    "\n",
    "Any input line beginning with a `!` character is passed verbatim (minus the `!`, of course) to the underlying operating system."
   ]
  },
  {
   "cell_type": "code",
   "execution_count": null,
   "metadata": {},
   "outputs": [],
   "source": [
    "!ls"
   ]
  }
 ],
 "metadata": {
  "kernelspec": {
   "display_name": "training",
   "language": "python",
   "name": "python3"
  },
  "language_info": {
   "codemirror_mode": {
    "name": "ipython",
    "version": 3
   },
   "file_extension": ".py",
   "mimetype": "text/x-python",
   "name": "python",
   "nbconvert_exporter": "python",
   "pygments_lexer": "ipython3",
   "version": "3.11.0"
  }
 },
 "nbformat": 4,
 "nbformat_minor": 4
}
